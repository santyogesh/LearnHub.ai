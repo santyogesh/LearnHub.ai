{
  "cells": [
    {
      "cell_type": "markdown",
      "metadata": {
        "id": "-wVdcWcZ0X2k"
      },
      "source": [
        "# WIKI PAGE\n",
        "\n",
        "# Overview\n",
        "\n",
        "Most problems, whether in science, finance or engineering, are solved best when broken down into simpler, straightforward sub-problems.\n",
        "For example: an astronomer is only adept at his skill in predicting and identifying events due to his ability to use his tools (calculus, scientific concepts like gravity and orbital mechanics) how and when required.\n",
        "Similarly, a neural network consists of many layers; some are responsible for basic data interpretation and pattern recognition, and others work to combine said patterns and solve the problem.\n",
        "This project deals with the way to combine various tools to solve a problem by cascading functions dealing with specific responsibilities.\n",
        "In this project we have developed a cascading function layout which can be used for the estimation of credit score of a person.\n"
      ]
    },
    {
      "cell_type": "markdown",
      "metadata": {
        "id": "B--cNZjH6Zhw"
      },
      "source": [
        "# Multilingual Data Handling\n",
        "\n",
        "The concept of cascading functions can be used to handle a multilingual dataset as follows:\n",
        "\n",
        "f1 - language identifier : using the characters of the text, it identifies the language of the dataset\n",
        "f2 - text cleaning : normalize/remove punctuation, and normalize the characters (like, in english, we usually make every character lowercase)\n",
        "f3 - embedding text : this is the crucial step. Using multilingual embedding models (like multilingual BERT), this function will convert the clean text into a vector of numerics (language-free)\n",
        "f4 - carrying out whatever task is intended (this in itself may be a cascade). May use NLP (natural language processing) to carry out tasks like predicting the tone/sentiment of a statement, or to pinpoint a topic/theme etc.\n",
        "However, in our project, we have decided to implement a FinTech application.\n"
      ]
    },
    {
      "cell_type": "markdown",
      "metadata": {
        "id": "ocok1Idg6OrO"
      },
      "source": [
        "# FinTech Applications\n",
        "Function cascades can be applied across multiple financial technology contexts:\n",
        "Credit Scoring: Improve accuracy by layering preprocessing, non-linear transformations, and predictive modeling.\n",
        "\n",
        "\n",
        "Fraud Detection: Combine statistical anomaly detection with NLP-based insights from transaction narratives.\n",
        "\n",
        "\n",
        "Risk Assessment: Merge structured numerical data with unstructured multilingual text for comprehensive evaluations.\n",
        "In our case, the cascade predicts a client's credit score using historical data (using regression)"
      ]
    },
    {
      "cell_type": "markdown",
      "metadata": {
        "id": "slxyfi221aWT"
      },
      "source": [
        "# Methodology\n",
        "\n",
        "To explain the methodology behind cascading, let us take an example of a decision-making process for generating stock trading signals using multiple functions:\n",
        "\n",
        "Example:\n",
        "input - raw stock market data\n",
        "f1 - cleaning data into OHLCV format\n",
        "f2 - calculating various technical analysis tools (RSI, MACD, candlestick patterns)\n",
        "f3 - deciding on what action to take\n",
        "output - long/short/hold\n",
        "\n",
        "Signal = f3(f2(f1(data)))\n",
        "\n",
        "In this project, the methodology is carried out via the following functions:\n",
        "1. data_cleaner - cleans data to remove any discrepancies\n",
        "2. best_degree - decides on what relationship the model should follow (in this example we have compared linear and quadratic relationship for better r-squared value)\n",
        "3. polynomial_transformer - creates the independents matrix using the powers of x till the degree decided earlier\n",
        "final_model - \tperforms the final regression\n"
      ]
    },
    {
      "cell_type": "markdown",
      "metadata": {
        "id": "6q8fdY-e4agC"
      },
      "source": [
        "# Implementation\n",
        "\n",
        "\n",
        "1. Data Acquisition\n",
        "\n",
        "The dataset is downloaded from Kaggle using the opendatasets library.\n",
        "\n",
        "Both training (CreditScore_train.csv) and test (CreditScore_test.csv) datasets are fetched and loaded into Pandas DataFrames.\n",
        "\n",
        "2. Data Preparation\n",
        "\n",
        "A subset of the training data is sampled to make experiments computationally manageable.\n",
        "\n",
        "Data cleaning is applied:\n",
        "Missing values are handled by replacing them with column means.\n",
        "\n",
        "Data scaling is performed using StandardScaler to normalize the features before model training.\n",
        "\n",
        "3. Feature Engineering\n",
        "\n",
        "The notebook leverages polynomial feature transformation:\n",
        "\n",
        "Input features are expanded into higher-degree polynomial combinations to capture non-linear relationships.\n",
        "\n",
        "A function (best_degree) is implemented to determine the most suitable polynomial degree using cross-validation with LinearRegression.\n",
        "\n",
        "4. Model Training\n",
        "\n",
        "Based on the chosen polynomial degree, features are transformed.\n",
        "\n",
        "A Linear Regression model is then trained on the polynomial-transformed features.\n",
        "\n",
        "The training process includes fitting the model to the scaled and cleaned dataset.\n",
        "\n",
        "5. Prediction\n",
        "\n",
        "Once the final model is trained, it is used to make predictions on the transformed and scaled test dataset.\n",
        "\n",
        "6. Functions in cascade\n",
        "\n",
        "The code is structured as a pipeline of modular functions:\n",
        "\n",
        "data_cleaner(df) → this function removes any nan value in the dataset and replaces it with the average of the numerical values in that set\n",
        "\n",
        "data_scaler(df) → normalizes the dataset.\n",
        "\n",
        "best_degree(X, y) → finds the optimal polynomial degree via cross-validation.\n",
        "\n",
        "polynomial_transformer(d, X, y) → expands features to chosen polynomial degree.\n",
        "\n",
        "final_model(data) → trains the regression model.\n",
        "\n",
        "These functions are cascaded together to implement a systematic ML workflow from raw data to return a trained model which can be used for prediction\n",
        "."
      ]
    },
    {
      "cell_type": "markdown",
      "metadata": {},
      "source": [
        "# Citations\n",
        "\n",
        "[Lecture-1, Slide 18] : cascading to introduce non-linearity\n",
        "\n",
        "[Lecture-2, Slide 21] : linear regression is not naively linear\n",
        "\n",
        "Kaggle Dataset : https://www.kaggle.com/datasets/prasy46/credit-score-prediction\n",
        "\n",
        "\n"
      ]
    },
    {
      "cell_type": "markdown",
      "metadata": {
        "id": "b3p1QNWMmish"
      },
      "source": [
        "\n",
        "\n",
        "---\n",
        "\n"
      ]
    },
    {
      "cell_type": "markdown",
      "metadata": {
        "id": "5R-O1q9KmqXf"
      },
      "source": [
        "# COLAB NOTEBOOK\n",
        "\n",
        "# **Implementing a Cascade of Functions for Non-linearity**\n",
        "**Topic**: Explicitly captured using a cascade/composition of different f1(f2(f3....))).\n",
        "\n",
        "**Reference**: Slide 18, Point 3, sub-bullet - \"cascade/composition of different\n",
        "f1(f2(f3....))\".\n",
        "\n",
        "**Specific Task**: Chain functions f1→f2→f3 to model non-linear process mimicking\n",
        "neural networks."
      ]
    },
    {
      "cell_type": "markdown",
      "metadata": {
        "id": "IYRGuIklowHh"
      },
      "source": [
        "# 1. Data Download\n",
        "\n",
        "In this step, the dataset required for training and evaluation is retrieved directly from Kaggle using the \"opendatasets\" library. By linking to the online repository, the notebook ensures reproducibility and makes it convenient for others to acquire the same data without manual uploads. This approach also provides traceability, since the dataset source is clearly documented and verifiable.\n"
      ]
    },
    {
      "cell_type": "code",
      "execution_count": null,
      "metadata": {
        "colab": {
          "base_uri": "https://localhost:8080/"
        },
        "id": "Zyez-qmKJYDN",
        "outputId": "9e34556e-8ef4-4be2-c21f-93e9474a047d"
      },
      "outputs": [
        {
          "name": "stdout",
          "output_type": "stream",
          "text": [
            "Collecting opendatasets\n",
            "  Downloading opendatasets-0.1.22-py3-none-any.whl.metadata (9.2 kB)\n",
            "Requirement already satisfied: tqdm in /usr/local/lib/python3.12/dist-packages (from opendatasets) (4.67.1)\n",
            "Requirement already satisfied: kaggle in /usr/local/lib/python3.12/dist-packages (from opendatasets) (1.7.4.5)\n",
            "Requirement already satisfied: click in /usr/local/lib/python3.12/dist-packages (from opendatasets) (8.2.1)\n",
            "Requirement already satisfied: bleach in /usr/local/lib/python3.12/dist-packages (from kaggle->opendatasets) (6.2.0)\n",
            "Requirement already satisfied: certifi>=14.05.14 in /usr/local/lib/python3.12/dist-packages (from kaggle->opendatasets) (2025.8.3)\n",
            "Requirement already satisfied: charset-normalizer in /usr/local/lib/python3.12/dist-packages (from kaggle->opendatasets) (3.4.3)\n",
            "Requirement already satisfied: idna in /usr/local/lib/python3.12/dist-packages (from kaggle->opendatasets) (3.10)\n",
            "Requirement already satisfied: protobuf in /usr/local/lib/python3.12/dist-packages (from kaggle->opendatasets) (5.29.5)\n",
            "Requirement already satisfied: python-dateutil>=2.5.3 in /usr/local/lib/python3.12/dist-packages (from kaggle->opendatasets) (2.9.0.post0)\n",
            "Requirement already satisfied: python-slugify in /usr/local/lib/python3.12/dist-packages (from kaggle->opendatasets) (8.0.4)\n",
            "Requirement already satisfied: requests in /usr/local/lib/python3.12/dist-packages (from kaggle->opendatasets) (2.32.4)\n",
            "Requirement already satisfied: setuptools>=21.0.0 in /usr/local/lib/python3.12/dist-packages (from kaggle->opendatasets) (75.2.0)\n",
            "Requirement already satisfied: six>=1.10 in /usr/local/lib/python3.12/dist-packages (from kaggle->opendatasets) (1.17.0)\n",
            "Requirement already satisfied: text-unidecode in /usr/local/lib/python3.12/dist-packages (from kaggle->opendatasets) (1.3)\n",
            "Requirement already satisfied: urllib3>=1.15.1 in /usr/local/lib/python3.12/dist-packages (from kaggle->opendatasets) (2.5.0)\n",
            "Requirement already satisfied: webencodings in /usr/local/lib/python3.12/dist-packages (from kaggle->opendatasets) (0.5.1)\n",
            "Downloading opendatasets-0.1.22-py3-none-any.whl (15 kB)\n",
            "Installing collected packages: opendatasets\n",
            "Successfully installed opendatasets-0.1.22\n",
            "Please provide your Kaggle credentials to download this dataset. Learn more: http://bit.ly/kaggle-creds\n",
            "Your Kaggle username: Atharva_1980\n",
            "Your Kaggle Key: ··········\n",
            "Dataset URL: https://www.kaggle.com/datasets/prasy46/credit-score-prediction\n",
            "Downloading credit-score-prediction.zip to ./credit-score-prediction\n"
          ]
        },
        {
          "name": "stderr",
          "output_type": "stream",
          "text": [
            "100%|██████████| 13.1M/13.1M [00:00<00:00, 841MB/s]"
          ]
        },
        {
          "name": "stdout",
          "output_type": "stream",
          "text": [
            "\n"
          ]
        },
        {
          "name": "stderr",
          "output_type": "stream",
          "text": [
            "\n"
          ]
        }
      ],
      "source": [
        "# Downloads dataset(s) or runs shell commands needed to prepare data.\n",
        "!pip install opendatasets\n",
        "import opendatasets as od\n",
        "od.download(\"https://www.kaggle.com/datasets/prasy46/credit-score-prediction?select=CreditScore_test.csv\")"
      ]
    },
    {
      "cell_type": "markdown",
      "metadata": {
        "id": "fy-ZwZzHpxeY"
      },
      "source": [
        "# 2. Custom Dataframe creation"
      ]
    },
    {
      "cell_type": "code",
      "execution_count": null,
      "metadata": {
        "id": "dIcI_4nvBX4B"
      },
      "outputs": [],
      "source": [
        "import pandas as pd\n",
        "#datasets with regular nomenclature of dataframes(df)\n",
        "df2=pd.read_csv(\"/content/credit-score-prediction/CreditScore_test.csv\")\n",
        "df1=pd.read_csv(\"/content/credit-score-prediction/CreditScore_train.csv\")\n",
        "\n",
        "#using the sample function to randomly choose the small part of the dataset of the big datset\n",
        "#creating training and test dataset\n",
        "df1=df1.sample(n=1000,random_state=42)\n",
        "X_train=df1.iloc[:,:-1]\n",
        "y_train=df1.iloc[:,-1]\n",
        "df2=df2.sample(n=100,random_state=42)\n",
        "X_test=df2.iloc[:,:-1]\n",
        "y_test=df2.iloc[:,-1]"
      ]
    },
    {
      "cell_type": "markdown",
      "metadata": {
        "id": "OJmoV7eoqWBI"
      },
      "source": [
        "# 3. Data cleaner\n",
        "This section prepares the raw data for modeling by addressing missing values and other simple inconsistencies. Where numeric fields contain gaps, we impute with the column’s expected value (e.g., mean) so that we do not lose rows during training. The goal is to retain as much information as possible while maintaining statistical coherence, ensuring that downstream transformations and models receive a clean, numerically stable input."
      ]
    },
    {
      "cell_type": "code",
      "execution_count": null,
      "metadata": {
        "id": "HqP35fcHL3NQ"
      },
      "outputs": [],
      "source": [
        "def data_cleaner(df):\n",
        "  #fills the null values with the expectation value of the column\n",
        "  df=df.fillna(df.mean())\n",
        "  return df"
      ]
    },
    {
      "cell_type": "markdown",
      "metadata": {
        "id": "AsXQi4h0qwJ5"
      },
      "source": [
        "# 4. Data scaling\n",
        "Here we standardize numerical features so that each has approximately zero mean and unit variance. Standardization prevents features with large numeric ranges from dominating the learning process and typically improves the conditioning of linear and polynomial models. In practice, the scaler is *fit* on the training set and then *applied* to both training and test splits to avoid data leakage."
      ]
    },
    {
      "cell_type": "code",
      "execution_count": null,
      "metadata": {
        "id": "E-lI6HR5OO6Q"
      },
      "outputs": [],
      "source": [
        "#standard scalar from the sklearn\n",
        "from sklearn.preprocessing import StandardScaler\n",
        "sc=StandardScaler()\n",
        "def data_scaler(df):\n",
        "  #scales the values using its mean and varience to the normal random variable mean and variance (0,1).\n",
        "  df=sc.fit_transform(df)\n",
        "  return df"
      ]
    },
    {
      "cell_type": "markdown",
      "metadata": {
        "id": "VdwNMO3jrKDo"
      },
      "source": [
        "# 5. Best Degree Transformation\n",
        "This step searches for a suitable polynomial degree that balances bias and variance for our regression task. By evaluating model performance across a small range of degrees, we select the degree that offers the best generalization on held‑out data. The selected degree is then used to construct polynomial features in the subsequent step."
      ]
    },
    {
      "cell_type": "code",
      "execution_count": null,
      "metadata": {
        "id": "8dK5KeZvX-5m"
      },
      "outputs": [],
      "source": [
        "# polynomial features for non linearity, model choosed- linear regression, cross validation metric used to choose the best degree\n",
        "from sklearn.preprocessing import PolynomialFeatures\n",
        "from sklearn.linear_model import LinearRegression\n",
        "from sklearn.model_selection import cross_val_score\n",
        "import  numpy as np\n",
        "\n",
        "def best_degree(X_train,y_train):\n",
        "  #The function returns best degree transformation for the given dataset\n",
        "  degree=[1,2]\n",
        "  best_degree=None\n",
        "  best_score=-np.inf\n",
        "  for d in degree:\n",
        "    poly=PolynomialFeatures(d,include_bias=False)\n",
        "    X_train_poly=poly.fit_transform(X_train)\n",
        "    model=LinearRegression()\n",
        "    scores=cross_val_score(model,X_train_poly,y_train,scoring=\"r2\",cv=3)\n",
        "    mean_score=np.mean(scores)\n",
        "    #Taking the best score\n",
        "    if mean_score>best_score:\n",
        "      best_score=mean_score\n",
        "      best_degree=d\n",
        "  return best_degree"
      ]
    },
    {
      "cell_type": "markdown",
      "metadata": {
        "id": "4w06ru1MsEvg"
      },
      "source": [
        "# 6. Polynomial Transformation\n",
        "With the chosen degree, we expand the feature space using polynomial combinations (including interactions) of the original predictors. This engineered, higher‑dimensional representation allows linear models to capture non‑linear relationships. While powerful, polynomial expansion can increase overfitting risk; therefore it is paired with careful degree selection and evaluation."
      ]
    },
    {
      "cell_type": "code",
      "execution_count": null,
      "metadata": {
        "id": "lIoZ9kW6bBTa"
      },
      "outputs": [],
      "source": [
        "def polynomial_transformer(d,X_train,y_train):\n",
        "  #The function does the polynomial transformation of given degree, to introduce the non linearity\n",
        "  poly=PolynomialFeatures(degree=d,include_bias=False)\n",
        "\n",
        "  #fitted the best degree\n",
        "  X_train_poly=poly.fit_transform(X_train)\n",
        "  return [X_train_poly,y_train]"
      ]
    },
    {
      "cell_type": "markdown",
      "metadata": {
        "id": "2c0xuHvUtHUx"
      },
      "source": [
        "# 7. Model Training"
      ]
    },
    {
      "cell_type": "code",
      "execution_count": null,
      "metadata": {
        "id": "RvAyP683cFCe"
      },
      "outputs": [],
      "source": [
        "def final_model(list1):\n",
        "  #Here, we are training the model using the given datasets stored in the list\n",
        "  X_train=list1[0]\n",
        "  y_train=list1[1]\n",
        "  model=LinearRegression()\n",
        "\n",
        "  #Training the model\n",
        "  model.fit(X_train,y_train)\n",
        "  return model"
      ]
    },
    {
      "cell_type": "markdown",
      "metadata": {
        "id": "efpXVtGptOGn"
      },
      "source": [
        "# 8. Cascading function implementation\n",
        "This block assembles the end‑to‑end pipeline as a cascade of small, testable functions: data cleaning → scaling → degree selection → polynomial feature generation → model training. A functional cascade makes the workflow explicit and reusable, enabling us to call one routine that handles preprocessing and modeling consistently for any compatible dataset."
      ]
    },
    {
      "cell_type": "code",
      "execution_count": null,
      "metadata": {
        "colab": {
          "base_uri": "https://localhost:8080/"
        },
        "id": "o-ikpOa_cUXG",
        "outputId": "5fbc4303-ff10-40c2-cb84-f5b37d999c94"
      },
      "outputs": [
        {
          "name": "stdout",
          "output_type": "stream",
          "text": [
            "[474.01331015 531.67678482 781.49507893 600.27050353 543.71984566\n",
            " 711.45946352 399.53027785 714.48086754 511.00742317 866.0122069\n",
            " 527.39797878 623.03677228 538.10395992 511.26178539 554.92294897\n",
            " 801.12588406 596.42478334 699.04152442 648.87286371 449.18852381\n",
            " 702.09544425 750.35508729 755.44129798 788.29500121 439.14269019\n",
            " 579.62142042 397.6910118  393.21705843 904.22829647 441.34115\n",
            " 538.68925835 515.17935965 592.61839637 630.27831471 564.08300742\n",
            " 729.78199825 650.49498867 573.88386094 613.32769783 655.38546158\n",
            " 512.37170558 591.99581387 665.83956527 660.99700451 529.64696005\n",
            " 810.4358121  758.95416337 578.31539787 553.90569759 507.54975816\n",
            " 598.89116581 518.85161988 621.59374065 811.27918914 773.81033724\n",
            " 553.6737697  812.11292027 524.27921452 873.10395528 581.26838969\n",
            " 603.28332234 589.21921242 450.19538654 763.85266557 539.12163102\n",
            " 468.4662767  512.85066231 782.47667325 544.0346681  592.6864139\n",
            " 560.83328139 906.79860593 533.52763133 548.69622775 558.678343\n",
            " 737.33479289 735.97896086 592.46423877 494.05770062 819.28781857\n",
            " 637.41030378 655.19964495 530.72872828 535.39555986 512.55223528\n",
            " 696.31312402 694.84195943 546.46739214 511.69117762 773.13396133\n",
            " 801.415484   462.7657884  832.53834252 725.91007606 613.12856009\n",
            " 435.8085352  680.66385232 692.97882532 846.24189834 482.30026869]\n"
          ]
        }
      ],
      "source": [
        "#cascading functions which returns a trained model\n",
        "#flow: data_cleaner → train_test_split → data_scaler → best_degree → polynomial_transformer → final_model\n",
        "model=final_model(polynomial_transformer(best_degree(data_scaler(data_cleaner(X_train)),y_train),data_scaler(data_cleaner(X_train)),y_train))\n",
        "\n",
        "#Model prediction\n",
        "y=model.predict(polynomial_transformer(best_degree(data_scaler(data_cleaner(X_train)),y_train),data_scaler(data_cleaner(X_test)),y_train)[0])\n",
        "print(y)\n"
      ]
    },
    {
      "cell_type": "markdown",
      "metadata": {
        "id": "mY9il43H5uGV"
      },
      "source": [
        "# 9. Evaluation metrics- r square\n",
        "We report the coefficient of determination (R²), which quantifies the proportion of variance in the target that is explained by the model. An R² of 1.0 indicates a perfect fit, whereas values near 0 suggest the model explains little beyond the mean predictor. Interpreting R² alongside diagnostic plots helps judge both accuracy and reliability.\n"
      ]
    },
    {
      "cell_type": "code",
      "execution_count": null,
      "metadata": {
        "colab": {
          "base_uri": "https://localhost:8080/"
        },
        "id": "Wa9VEjUg2QXd",
        "outputId": "f7feb3c5-a923-4f91-ea42-a24654a7ed0d"
      },
      "outputs": [
        {
          "name": "stdout",
          "output_type": "stream",
          "text": [
            "0.8008403996108007\n"
          ]
        }
      ],
      "source": [
        "from sklearn.metrics import r2_score\n",
        "print(r2_score(y_test,y))   #a fit with an r-squared of 0.7+ is a decent fit, 0.8+ is strong and 0.9+ is very strong"
      ]
    },
    {
      "cell_type": "markdown",
      "metadata": {
        "id": "WBEGKhfl54mM"
      },
      "source": [
        "# 10. Visual Representation\n"
      ]
    },
    {
      "cell_type": "markdown",
      "metadata": {
        "id": "_dEBkoNwu1fY"
      },
      "source": [
        "***Predicted vs Actual Plot***\n",
        "\n",
        "Purpose – Compares model predictions with true observed values in regression.\n",
        "\n",
        "Interpretation – Points near the 45° diagonal show accurate predictions; scattered points show errors.\n",
        "\n",
        "Significance – Helps assess model accuracy, detect bias/variance issues, and identify outliers.\n",
        "\n",
        "This scatter plot compares predicted values against ground‑truth targets. Points lying close to the diagonal line indicate accurate predictions; systematic deviations or curved patterns can signal model bias or insufficient feature engineering.\n"
      ]
    },
    {
      "cell_type": "code",
      "execution_count": null,
      "metadata": {
        "colab": {
          "base_uri": "https://localhost:8080/",
          "height": 564
        },
        "id": "rRHM19ElBwqE",
        "outputId": "38f6c78f-198a-4fa0-be28-04cd61318f9e"
      },
      "outputs": [
        {
          "data": {
            "image/png": "[encoded data removed]",
            "text/plain": [
              "<Figure size 600x600 with 1 Axes>"
            ]
          },
          "metadata": {},
          "output_type": "display_data"
        }
      ],
      "source": [
        "import matplotlib.pyplot as plt\n",
        "\n",
        "plt.figure(figsize=(6,6))\n",
        "plt.scatter(y_test, y, alpha=0.6)\n",
        "mn = min(y_test.min(), y.min())\n",
        "mx = max(y_test.max(), y.max())\n",
        "plt.plot([mn, mx], [mn, mx], linestyle='--')  # y=x line is the benchmark case, where predicted and actual values match\n",
        "plt.xlabel(\"Actual score\")\n",
        "plt.ylabel(\"Predicted score\")\n",
        "plt.title(\"Predicted vs Actual\")\n",
        "plt.grid(True)\n",
        "plt.show()"
      ]
    },
    {
      "cell_type": "markdown",
      "metadata": {
        "id": "Dm5nT-iev5dJ"
      },
      "source": [
        "***Residuals vs Predicted Plot***\n",
        "\n",
        "Purpose – Displays residuals (actual − predicted) against predicted values to evaluate model errors.\n",
        "\n",
        "Interpretation – Random scatter around the horizontal zero line suggests a good fit; patterns or trends indicate bias, non-linearity, or heteroscedasticity.\n",
        "\n",
        "Significance – Useful for diagnosing model assumptions, checking variance consistency, and spotting systematic prediction errors.\n",
        "\n",
        "This diagnostic plot charts residuals (actual − predicted) against the model’s predictions. A healthy model exhibits a random, band‑shaped cloud around zero with no visible trend. Patterns, funnels, or curvature often indicate heteroscedasticity or unmodeled non‑linearity."
      ]
    },
    {
      "cell_type": "code",
      "execution_count": null,
      "metadata": {
        "colab": {
          "base_uri": "https://localhost:8080/",
          "height": 410
        },
        "id": "K5I9aFLUHbJe",
        "outputId": "51b8bfae-1895-48db-ce88-67d16e65f582"
      },
      "outputs": [
        {
          "data": {
            "image/png": "[encoded data removed]",
            "text/plain": [
              "<Figure size 600x400 with 1 Axes>"
            ]
          },
          "metadata": {},
          "output_type": "display_data"
        }
      ],
      "source": [
        "residuals = y_test - y\n",
        "plt.figure(figsize=(6,4))\n",
        "plt.scatter(y, residuals, alpha=0.6)\n",
        "plt.axhline(0, linestyle='--')\n",
        "plt.xlabel(\"Predicted score\")\n",
        "plt.ylabel(\"Residual (Actual - Predicted)\")\n",
        "plt.title(\"Residuals vs Predicted\")\n",
        "plt.grid(True)\n",
        "plt.show()"
      ]
    },
    {
      "cell_type": "markdown",
      "metadata": {
        "id": "InHKGgVMwA9A"
      },
      "source": [
        "***Residuals Distribution Plot***\n",
        "\n",
        "Purpose – Shows the frequency distribution of residuals to check how errors are spread.\n",
        "\n",
        "Interpretation – A roughly symmetric, bell-shaped distribution centered at zero indicates unbiased predictions; skewness or heavy tails suggest model misspecification.\n",
        "\n",
        "Significance – Helps validate regression assumptions and detect outliers or systematic errors in the model.\n",
        "\n",
        "This histogram shows how residuals are distributed. A roughly bell‑shaped, zero‑centered distribution suggests unbiased errors and supports the assumptions of many regression diagnostics. Heavy tails or skew may warrant revisiting feature transformations or error modeling."
      ]
    },
    {
      "cell_type": "code",
      "execution_count": null,
      "metadata": {
        "colab": {
          "base_uri": "https://localhost:8080/",
          "height": 410
        },
        "id": "SzhUC7e1IC6r",
        "outputId": "627e9d86-5394-4ff5-9af2-a67efd4e1fde"
      },
      "outputs": [
        {
          "data": {
            "image/png": "[encoded data removed]",
            "text/plain": [
              "<Figure size 600x400 with 1 Axes>"
            ]
          },
          "metadata": {},
          "output_type": "display_data"
        }
      ],
      "source": [
        "plt.figure(figsize=(6,4))\n",
        "plt.hist(residuals, bins=30, density=False, alpha=0.8)\n",
        "plt.xlabel(\"Residual (Actual - Predicted)\")\n",
        "plt.title(\"Residuals distribution\")\n",
        "plt.grid(True)\n",
        "plt.show()"
      ]
    }
  ],
  "metadata": {
    "colab": {
      "gpuType": "T4",
      "provenance": []
    },
    "kernelspec": {
      "display_name": "Python 3",
      "name": "python3"
    },
    "language_info": {
      "name": "python"
    }
  },
  "nbformat": 4,
  "nbformat_minor": 0
}
