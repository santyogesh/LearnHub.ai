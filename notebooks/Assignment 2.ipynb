{
  "cells": [
    {
      "cell_type": "markdown",
      "id": "mG-Zl8-MxLOS",
      "metadata": {
        "id": "mG-Zl8-MxLOS"
      },
      "source": [
        "# Assignment 2 · Parametrized Regression for Stock Price Prediction\n"
      ]
    },
    {
      "cell_type": "markdown",
      "id": "0H9mG7kMxLOU",
      "metadata": {
        "id": "0H9mG7kMxLOU"
      },
      "source": [
        "# **Parametrized Regression for Stock Price Prediction**\n"
      ]
    },
    {
      "cell_type": "markdown",
      "id": "rBqu2n5FzBZH",
      "metadata": {
        "id": "rBqu2n5FzBZH"
      },
      "source": [
        "## **Overview**  \n",
        "In this project, we developed a regression model to predict a stock’s **closing price** using **opening price** and **trading volume**. The goal was to find the best set of parameters $w$ for the function $f(\\phi(x), w)$ in order to reduce the difference between the predicted closing price and the actual closing price as much as possible.\n",
        "\n",
        "We used **Ordinary Least Squares (OLS)** regression, a method that finds the best fit line by minimising the sum of squared errors between predicted and actual values (Lecture 1, Slide 20). Because stock data is time-dependent, we split the dataset in **chronological order** so the model trains only on past data and predicts future values.\n",
        "\n",
        "---\n",
        "\n",
        "## **Methodology**  \n",
        "The model follows the standard OLS equation:  \n",
        "\n",
        "$$\n",
        "\\hat{y} = w_0 + w_1 x_1 + w_2 x_2\n",
        "$$  \n",
        "\n",
        "Where:  \n",
        "- $x_1$ — opening price  \n",
        "- $x_2$ — trading volume  \n",
        "- $w_0$ — intercept term  \n",
        "\n",
        "\n",
        "\n",
        "The parameters \\(w\\) are calculated using the **Normal Equation** (Lecture 2, Slides 12–13):  \n",
        "\n",
        "$$\n",
        "w = (\\Phi^T \\Phi)^{-1} \\Phi^T y\n",
        "$$  \n",
        "\n",
        "This method minimizes the **Mean Squared Error (MSE)** and, under normal error assumptions, matches the **Maximum Likelihood Estimator** (Lecture 2, Slide 28).\n",
        "\n",
        "---\n",
        "\n",
        "## **Multilingual Data Handling**  \n",
        "Our dataset only has numerical values but in order to handle **multilingual text data** like financial news headlines in different languages.  \n",
        "\n",
        "We could:  \n",
        "1. Detect the language and translate or convert it into a shared numerical form.  \n",
        "2. Analyze the sentiment of the text that could be considered as positive, negative or neutral.  \n",
        "3. Add the sentiment score as an extra input feature alongside the opening price and trading volume and continue with the procedure in this code.  \n",
        "\n",
        "This would help incoroporate market sentiment, which often influences stock prices ([GeeksforGeeks – Multilingual NLP](https://www.geeksforgeeks.org/multilingual-natural-language-processing-nlp/)).\n",
        "\n",
        "---\n",
        "\n",
        "## **FinTech Applications**  \n",
        "A model like this can be used in:  \n",
        "- **Algorithmic trading** -Automatically making trades using predictions.\n",
        "- **Portfolio management** –Spotting risks and opportunities.\n",
        "- **Market analysis dashboards** –Combining live data and predictions for better decisions.\n",
        "\n",
        "But if something unexpected happens in the market—like breaking news or strange trading—it can get things wrong as the model relies on historical data.\n",
        "\n",
        "---\n",
        "\n",
        "## **Implementation**  \n",
        "We carried out this project on Google Colab using Python and scikit-learn with the following steps:\n",
        "\n",
        "- **Data Loading** – We brought in the stock market data (from Kaggle) using Pandas. We standardized the column names, so the code can work with different data sets.\n",
        "\n",
        "- **Chronological Split** – We sorted the data by date and then split it into 80% for training the model and 20% for testing, keeping everything in time order.\n",
        "\n",
        "- **Model Training** – We trained a linear regression model using scikit-learn, which figures out the best fit based on the data.\n",
        "\n",
        "- **Prediction** – The model then predicted the closing prices.\n",
        "\n",
        "- **Checking the Model** – We created several plots to understand how our model performed:\n",
        "  - Actual vs Predicted – Shows how close predictions are to real values. ([ResearchGate – Actual vs Predicted Plot](https://www.researchgate.net/figure/Actual-and-predicted-values-plot-is-a-visualization-technique-used-to-compare-the-actual_fig1_370547323))\n",
        "  - Residuals vs Index – Checks if errors are randomly spread over time. ([Penn State STAT 501, Lesson 4.5 – Residual-order Plots](https://online.stat.psu.edu/stat501/lesson/4/4.5))\n",
        "  - Residual Histogram – Tells if errors are normally distributed. ([GeeksforGeeks – Normality of Residuals](https://online.stat.psu.edu/stat501/lesson/4/4.6))\n",
        "  - Q–Q Plot – Compares errors to a normal pattern. ([GeeksforGeeks – Quantile–Quantile Plots](https://www.geeksforgeeks.org/machine-learning/quantile-quantile-plots/))\n",
        "  - Predicted vs Residuals – Sees if errors stay consistent for all predictions, checks for homoscedasticity . ([Penn State 501 – Residuals vs. Predictor Plot](https://online.stat.psu.edu/stat501/lesson/4/4.3))\n",
        "\n",
        "*(You’ll find more detailed explanations about these plots in the Conclusion section at the end of the notebook.)*\n",
        "\n",
        "  \n",
        "---\n",
        "\n",
        "## **Evaluation Metrics**  \n",
        "\n",
        "We evaluated the model using two common metrics:  \n",
        "\n",
        "1. **Mean Squared Error (MSE)** – This measures the average squared difference between the actual closing prices ($y_i$) and the predicted closing prices ($\\hat{y}_i$):  \n",
        "\n",
        "$$\n",
        "\\text{MSE} = \\frac{1}{n} \\sum_{i=1}^n (y_i - \\hat{y}_i)^2\n",
        "$$  \n",
        "\n",
        "A lower MSE means the predicted closing prices are closer to the actual ones.  \n",
        "\n",
        "2. **R² Score (Coefficient of Determination)** – measures how well the model explains the variations in actual closing prices.  \n",
        "\n",
        "$$\n",
        "R^2 = 1 - \\frac{\\sum_{i=1}^n (y_i - \\hat{y}_i)^2}{\\sum_{i=1}^n (y_i - \\bar{y})^2}\n",
        "$$  \n",
        "\n",
        "An R² closer to 1 means the model explains most of the variation in closing prices, while an R² near 0 means it explains very little.  \n",
        "\n",
        "\n",
        "---\n",
        "## **Assumptions & Limitations**  \n",
        "- Predictors have a **linear** relationship with the target.  \n",
        "- Errors are **independent** and **normally distributed**.  \n",
        "- Variance of errors is **constant** (homoscedasticity).  \n",
        "- Accuracy may drop during sudden market changes or in non-stationary conditions.  \n",
        "\n",
        "---\n",
        "\n",
        "## **Future Work**  \n",
        "- Add sentiment analysis from multilingual financial news.  \n",
        "- Test regularized regression models like Ridge and Lasso.  \n",
        "\n",
        "\n"
      ]
    },
    {
      "cell_type": "markdown",
      "id": "6GtBeyX9xLOV",
      "metadata": {
        "id": "6GtBeyX9xLOV"
      },
      "source": [
        "## **The Code**\n"
      ]
    },
    {
      "cell_type": "markdown",
      "id": "372212f6",
      "metadata": {
        "id": "372212f6"
      },
      "source": [
        "### 1) Setup & Imports"
      ]
    },
    {
      "cell_type": "code",
      "execution_count": 1,
      "id": "yY3BOyvvxLOW",
      "metadata": {
        "colab": {
          "base_uri": "https://localhost:8080/"
        },
        "id": "yY3BOyvvxLOW",
        "outputId": "7790e320-dacd-4091-ab83-e7dedb700a6a"
      },
      "outputs": [
        {
          "name": "stdout",
          "output_type": "stream",
          "text": [
            "Libraries imported.\n"
          ]
        }
      ],
      "source": [
        "import pandas as pd\n",
        "import numpy as np\n",
        "import matplotlib.pyplot as plot\n",
        "import yfinance as yf\n",
        "\n",
        "from sklearn.linear_model import LinearRegression\n",
        "from sklearn.metrics import mean_squared_error, r2_score\n",
        "from sklearn.model_selection import learning_curve\n",
        "\n",
        "pd.set_option(\"display.width\", 140)\n",
        "pd.set_option(\"display.max_columns\", 30)\n",
        "\n",
        "print(\"Libraries imported.\")"
      ]
    },
    {
      "cell_type": "markdown",
      "id": "a0f44307",
      "metadata": {
        "id": "a0f44307"
      },
      "source": [
        "### 2) Download the data for Processing"
      ]
    },
    {
      "cell_type": "code",
      "execution_count": 2,
      "id": "551ce677",
      "metadata": {
        "colab": {
          "base_uri": "https://localhost:8080/"
        },
        "id": "551ce677",
        "outputId": "d7555c07-6e5f-4dc9-d75a-1770946ad338"
      },
      "outputs": [
        {
          "name": "stderr",
          "output_type": "stream",
          "text": [
            "[*********************100%***********************]  1 of 1 completed"
          ]
        },
        {
          "name": "stdout",
          "output_type": "stream",
          "text": [
            "Data saved to stock_data.csv\n"
          ]
        },
        {
          "name": "stderr",
          "output_type": "stream",
          "text": [
            "\n"
          ]
        }
      ],
      "source": [
        "stock_symbol = \"AAPL\"\n",
        "start_date = \"2020-01-01\"\n",
        "end_date = \"2024-12-31\"\n",
        "file = \"stock_data.csv\"\n",
        "data = yf.download(stock_symbol, start=start_date, end=end_date,auto_adjust=True)\n",
        "\n",
        "# Keep only the required columns for processing\n",
        "data = data[['Open', 'Close', 'Volume']]\n",
        "data.columns = ['Open', 'Close', 'Volume']\n",
        "\n",
        "data.to_csv(file)\n",
        "print(f\"Data saved to {file}\")"
      ]
    },
    {
      "cell_type": "markdown",
      "id": "FgoxBnUKxLOX",
      "metadata": {
        "id": "FgoxBnUKxLOX"
      },
      "source": [
        "### 3) Read and Clean the Data\n",
        "1) If we are not using the downloaded data, we normalise the column names so it wouldn't give problems in next code snippets.\n",
        "2) We then check if in the data is there any rows with bad dates (bad data we don't need), then we remove the redundant data and sort the remaining in chronological order for splitting it into test and train in the next step.\n",
        "3) Again if the other data we are using have more columns then we only keep the required ones for our model.  "
      ]
    },
    {
      "cell_type": "code",
      "execution_count": 3,
      "id": "obP2vPvxxLOX",
      "metadata": {
        "colab": {
          "base_uri": "https://localhost:8080/",
          "height": 744
        },
        "id": "obP2vPvxxLOX",
        "outputId": "40303dbb-bf2e-4d4d-f8b0-c01dfc942245"
      },
      "outputs": [
        {
          "name": "stdout",
          "output_type": "stream",
          "text": [
            "Raw shape: (1257, 4)\n"
          ]
        },
        {
          "data": {
            "text/html": [
              "<div>\n",
              "<style scoped>\n",
              "    .dataframe tbody tr th:only-of-type {\n",
              "        vertical-align: middle;\n",
              "    }\n",
              "\n",
              "    .dataframe tbody tr th {\n",
              "        vertical-align: top;\n",
              "    }\n",
              "\n",
              "    .dataframe thead th {\n",
              "        text-align: right;\n",
              "    }\n",
              "</style>\n",
              "<table border=\"1\" class=\"dataframe\">\n",
              "  <thead>\n",
              "    <tr style=\"text-align: right;\">\n",
              "      <th></th>\n",
              "      <th>Date</th>\n",
              "      <th>Open</th>\n",
              "      <th>Close</th>\n",
              "      <th>Volume</th>\n",
              "    </tr>\n",
              "  </thead>\n",
              "  <tbody>\n",
              "    <tr>\n",
              "      <th>0</th>\n",
              "      <td>2020-01-02</td>\n",
              "      <td>71.545882</td>\n",
              "      <td>72.538506</td>\n",
              "      <td>135480400</td>\n",
              "    </tr>\n",
              "    <tr>\n",
              "      <th>1</th>\n",
              "      <td>2020-01-03</td>\n",
              "      <td>71.765674</td>\n",
              "      <td>71.833298</td>\n",
              "      <td>146322800</td>\n",
              "    </tr>\n",
              "    <tr>\n",
              "      <th>2</th>\n",
              "      <td>2020-01-06</td>\n",
              "      <td>70.954203</td>\n",
              "      <td>72.405693</td>\n",
              "      <td>118387200</td>\n",
              "    </tr>\n",
              "    <tr>\n",
              "      <th>3</th>\n",
              "      <td>2020-01-07</td>\n",
              "      <td>72.415330</td>\n",
              "      <td>72.065140</td>\n",
              "      <td>108872000</td>\n",
              "    </tr>\n",
              "    <tr>\n",
              "      <th>4</th>\n",
              "      <td>2020-01-08</td>\n",
              "      <td>71.768086</td>\n",
              "      <td>73.224411</td>\n",
              "      <td>132079200</td>\n",
              "    </tr>\n",
              "    <tr>\n",
              "      <th>5</th>\n",
              "      <td>2020-01-09</td>\n",
              "      <td>74.202534</td>\n",
              "      <td>74.779755</td>\n",
              "      <td>170108400</td>\n",
              "    </tr>\n",
              "    <tr>\n",
              "      <th>6</th>\n",
              "      <td>2020-01-10</td>\n",
              "      <td>75.014028</td>\n",
              "      <td>74.948814</td>\n",
              "      <td>140644800</td>\n",
              "    </tr>\n",
              "    <tr>\n",
              "      <th>7</th>\n",
              "      <td>2020-01-13</td>\n",
              "      <td>75.265204</td>\n",
              "      <td>76.550049</td>\n",
              "      <td>121532000</td>\n",
              "    </tr>\n",
              "    <tr>\n",
              "      <th>8</th>\n",
              "      <td>2020-01-14</td>\n",
              "      <td>76.487238</td>\n",
              "      <td>75.516350</td>\n",
              "      <td>161954400</td>\n",
              "    </tr>\n",
              "    <tr>\n",
              "      <th>9</th>\n",
              "      <td>2020-01-15</td>\n",
              "      <td>75.315931</td>\n",
              "      <td>75.192757</td>\n",
              "      <td>121923600</td>\n",
              "    </tr>\n",
              "  </tbody>\n",
              "</table>\n",
              "</div>"
            ],
            "text/plain": [
              "         Date       Open      Close     Volume\n",
              "0  2020-01-02  71.545882  72.538506  135480400\n",
              "1  2020-01-03  71.765674  71.833298  146322800\n",
              "2  2020-01-06  70.954203  72.405693  118387200\n",
              "3  2020-01-07  72.415330  72.065140  108872000\n",
              "4  2020-01-08  71.768086  73.224411  132079200\n",
              "5  2020-01-09  74.202534  74.779755  170108400\n",
              "6  2020-01-10  75.014028  74.948814  140644800\n",
              "7  2020-01-13  75.265204  76.550049  121532000\n",
              "8  2020-01-14  76.487238  75.516350  161954400\n",
              "9  2020-01-15  75.315931  75.192757  121923600"
            ]
          },
          "metadata": {},
          "output_type": "display_data"
        },
        {
          "name": "stdout",
          "output_type": "stream",
          "text": [
            "After cleaning: (1257, 4)\n"
          ]
        },
        {
          "data": {
            "text/html": [
              "<div>\n",
              "<style scoped>\n",
              "    .dataframe tbody tr th:only-of-type {\n",
              "        vertical-align: middle;\n",
              "    }\n",
              "\n",
              "    .dataframe tbody tr th {\n",
              "        vertical-align: top;\n",
              "    }\n",
              "\n",
              "    .dataframe thead th {\n",
              "        text-align: right;\n",
              "    }\n",
              "</style>\n",
              "<table border=\"1\" class=\"dataframe\">\n",
              "  <thead>\n",
              "    <tr style=\"text-align: right;\">\n",
              "      <th></th>\n",
              "      <th>Date</th>\n",
              "      <th>Open</th>\n",
              "      <th>Volume</th>\n",
              "      <th>Close</th>\n",
              "    </tr>\n",
              "  </thead>\n",
              "  <tbody>\n",
              "    <tr>\n",
              "      <th>0</th>\n",
              "      <td>2020-01-02</td>\n",
              "      <td>71.545882</td>\n",
              "      <td>135480400</td>\n",
              "      <td>72.538506</td>\n",
              "    </tr>\n",
              "    <tr>\n",
              "      <th>1</th>\n",
              "      <td>2020-01-03</td>\n",
              "      <td>71.765674</td>\n",
              "      <td>146322800</td>\n",
              "      <td>71.833298</td>\n",
              "    </tr>\n",
              "    <tr>\n",
              "      <th>2</th>\n",
              "      <td>2020-01-06</td>\n",
              "      <td>70.954203</td>\n",
              "      <td>118387200</td>\n",
              "      <td>72.405693</td>\n",
              "    </tr>\n",
              "    <tr>\n",
              "      <th>3</th>\n",
              "      <td>2020-01-07</td>\n",
              "      <td>72.415330</td>\n",
              "      <td>108872000</td>\n",
              "      <td>72.065140</td>\n",
              "    </tr>\n",
              "    <tr>\n",
              "      <th>4</th>\n",
              "      <td>2020-01-08</td>\n",
              "      <td>71.768086</td>\n",
              "      <td>132079200</td>\n",
              "      <td>73.224411</td>\n",
              "    </tr>\n",
              "    <tr>\n",
              "      <th>5</th>\n",
              "      <td>2020-01-09</td>\n",
              "      <td>74.202534</td>\n",
              "      <td>170108400</td>\n",
              "      <td>74.779755</td>\n",
              "    </tr>\n",
              "    <tr>\n",
              "      <th>6</th>\n",
              "      <td>2020-01-10</td>\n",
              "      <td>75.014028</td>\n",
              "      <td>140644800</td>\n",
              "      <td>74.948814</td>\n",
              "    </tr>\n",
              "    <tr>\n",
              "      <th>7</th>\n",
              "      <td>2020-01-13</td>\n",
              "      <td>75.265204</td>\n",
              "      <td>121532000</td>\n",
              "      <td>76.550049</td>\n",
              "    </tr>\n",
              "    <tr>\n",
              "      <th>8</th>\n",
              "      <td>2020-01-14</td>\n",
              "      <td>76.487238</td>\n",
              "      <td>161954400</td>\n",
              "      <td>75.516350</td>\n",
              "    </tr>\n",
              "    <tr>\n",
              "      <th>9</th>\n",
              "      <td>2020-01-15</td>\n",
              "      <td>75.315931</td>\n",
              "      <td>121923600</td>\n",
              "      <td>75.192757</td>\n",
              "    </tr>\n",
              "  </tbody>\n",
              "</table>\n",
              "</div>"
            ],
            "text/plain": [
              "        Date       Open     Volume      Close\n",
              "0 2020-01-02  71.545882  135480400  72.538506\n",
              "1 2020-01-03  71.765674  146322800  71.833298\n",
              "2 2020-01-06  70.954203  118387200  72.405693\n",
              "3 2020-01-07  72.415330  108872000  72.065140\n",
              "4 2020-01-08  71.768086  132079200  73.224411\n",
              "5 2020-01-09  74.202534  170108400  74.779755\n",
              "6 2020-01-10  75.014028  140644800  74.948814\n",
              "7 2020-01-13  75.265204  121532000  76.550049\n",
              "8 2020-01-14  76.487238  161954400  75.516350\n",
              "9 2020-01-15  75.315931  121923600  75.192757"
            ]
          },
          "metadata": {},
          "output_type": "display_data"
        }
      ],
      "source": [
        "# Read the Data\n",
        "stock_data = pd.read_csv(file)\n",
        "print(\"Raw shape:\", stock_data.shape)\n",
        "display(stock_data.head(10))\n",
        "\n",
        "#Normalise column names\n",
        "rename_map = {}\n",
        "for column in stock_data.columns:\n",
        "    lower_column = str(column).strip().lower()\n",
        "    if lower_column == \"date\":\n",
        "        rename_map[column] = \"Date\"\n",
        "    elif lower_column in (\"open\", \"opening price\", \"open price\"):\n",
        "        rename_map[column] = \"Open\"\n",
        "    elif lower_column in (\"close\", \"closing price\", \"adj close\", \"adjusted close\"):\n",
        "        rename_map[column] = \"Close\"\n",
        "    elif lower_column in (\"volume\", \"trading volume\"):\n",
        "        rename_map[column] = \"Volume\"\n",
        "\n",
        "stock_data = stock_data.rename(columns=rename_map).copy()\n",
        "\n",
        "\n",
        "# Remove invalid/bad dates and sort the remaining chronologically\n",
        "stock_data[\"Date\"] = pd.to_datetime(stock_data[\"Date\"], errors=\"coerce\")\n",
        "stock_data = stock_data.dropna(subset=[\"Date\"]).sort_values(\"Date\").reset_index(drop=True)\n",
        "\n",
        "# Keep only the columns needed\n",
        "keep = [\"Open\", \"Volume\", \"Close\"]\n",
        "if \"Date\" in stock_data.columns:\n",
        "    keep = [\"Date\"] + keep\n",
        "\n",
        "stock_data_cleaned = stock_data[keep].replace([np.inf, -np.inf], np.nan).dropna(subset=[\"Open\", \"Volume\", \"Close\"])\n",
        "\n",
        "print(\"After cleaning:\", stock_data_cleaned.shape)\n",
        "display(stock_data_cleaned.head(10))"
      ]
    },
    {
      "cell_type": "markdown",
      "id": "1-iLux01xLOX",
      "metadata": {
        "id": "1-iLux01xLOX"
      },
      "source": [
        "### 4) Train/Test Split (Time‑wise 80/20)"
      ]
    },
    {
      "cell_type": "code",
      "execution_count": 4,
      "id": "wQMJDjtLxLOX",
      "metadata": {
        "colab": {
          "base_uri": "https://localhost:8080/",
          "height": 305
        },
        "id": "wQMJDjtLxLOX",
        "outputId": "c5fc10be-9af1-4437-d3c4-ee80b1aedd5f"
      },
      "outputs": [
        {
          "name": "stdout",
          "output_type": "stream",
          "text": [
            "Train: 2020-01-02 00:00:00 - 2023-12-28 00:00:00 | rows: 1005\n",
            "Test : 2023-12-29 00:00:00 - 2024-12-30 00:00:00 | rows: 252\n"
          ]
        },
        {
          "data": {
            "text/html": [
              "<div>\n",
              "<style scoped>\n",
              "    .dataframe tbody tr th:only-of-type {\n",
              "        vertical-align: middle;\n",
              "    }\n",
              "\n",
              "    .dataframe tbody tr th {\n",
              "        vertical-align: top;\n",
              "    }\n",
              "\n",
              "    .dataframe thead th {\n",
              "        text-align: right;\n",
              "    }\n",
              "</style>\n",
              "<table border=\"1\" class=\"dataframe\">\n",
              "  <thead>\n",
              "    <tr style=\"text-align: right;\">\n",
              "      <th></th>\n",
              "      <th>Date</th>\n",
              "      <th>Open</th>\n",
              "      <th>Volume</th>\n",
              "      <th>Close</th>\n",
              "    </tr>\n",
              "  </thead>\n",
              "  <tbody>\n",
              "    <tr>\n",
              "      <th>1002</th>\n",
              "      <td>2023-12-26</td>\n",
              "      <td>191.984602</td>\n",
              "      <td>28919300</td>\n",
              "      <td>191.429306</td>\n",
              "    </tr>\n",
              "    <tr>\n",
              "      <th>1003</th>\n",
              "      <td>2023-12-27</td>\n",
              "      <td>190.873995</td>\n",
              "      <td>48087700</td>\n",
              "      <td>191.528442</td>\n",
              "    </tr>\n",
              "    <tr>\n",
              "      <th>1004</th>\n",
              "      <td>2023-12-28</td>\n",
              "      <td>192.510145</td>\n",
              "      <td>34049900</td>\n",
              "      <td>191.954849</td>\n",
              "    </tr>\n",
              "  </tbody>\n",
              "</table>\n",
              "</div>"
            ],
            "text/plain": [
              "           Date        Open    Volume       Close\n",
              "1002 2023-12-26  191.984602  28919300  191.429306\n",
              "1003 2023-12-27  190.873995  48087700  191.528442\n",
              "1004 2023-12-28  192.510145  34049900  191.954849"
            ]
          },
          "metadata": {},
          "output_type": "display_data"
        },
        {
          "data": {
            "text/html": [
              "<div>\n",
              "<style scoped>\n",
              "    .dataframe tbody tr th:only-of-type {\n",
              "        vertical-align: middle;\n",
              "    }\n",
              "\n",
              "    .dataframe tbody tr th {\n",
              "        vertical-align: top;\n",
              "    }\n",
              "\n",
              "    .dataframe thead th {\n",
              "        text-align: right;\n",
              "    }\n",
              "</style>\n",
              "<table border=\"1\" class=\"dataframe\">\n",
              "  <thead>\n",
              "    <tr style=\"text-align: right;\">\n",
              "      <th></th>\n",
              "      <th>Date</th>\n",
              "      <th>Open</th>\n",
              "      <th>Volume</th>\n",
              "      <th>Close</th>\n",
              "    </tr>\n",
              "  </thead>\n",
              "  <tbody>\n",
              "    <tr>\n",
              "      <th>1005</th>\n",
              "      <td>2023-12-29</td>\n",
              "      <td>192.272159</td>\n",
              "      <td>42672100</td>\n",
              "      <td>190.913666</td>\n",
              "    </tr>\n",
              "    <tr>\n",
              "      <th>1006</th>\n",
              "      <td>2024-01-02</td>\n",
              "      <td>185.578799</td>\n",
              "      <td>82488700</td>\n",
              "      <td>184.081482</td>\n",
              "    </tr>\n",
              "    <tr>\n",
              "      <th>1007</th>\n",
              "      <td>2024-01-03</td>\n",
              "      <td>182.673439</td>\n",
              "      <td>58414500</td>\n",
              "      <td>182.703186</td>\n",
              "    </tr>\n",
              "  </tbody>\n",
              "</table>\n",
              "</div>"
            ],
            "text/plain": [
              "           Date        Open    Volume       Close\n",
              "1005 2023-12-29  192.272159  42672100  190.913666\n",
              "1006 2024-01-02  185.578799  82488700  184.081482\n",
              "1007 2024-01-03  182.673439  58414500  182.703186"
            ]
          },
          "metadata": {},
          "output_type": "display_data"
        }
      ],
      "source": [
        "\n",
        "train_data_len = int(len(stock_data_cleaned)*(0.8))\n",
        "train_data = stock_data_cleaned.iloc[:train_data_len].copy()\n",
        "test_data = stock_data_cleaned.iloc[train_data_len:].copy()\n",
        "\n",
        "# Display the range of Dates for Train and Test data.\n",
        "print(\"Train:\", train_data[\"Date\"].min(), \"-\", train_data[\"Date\"].max(), \"| rows:\", len(train_data))\n",
        "print(\"Test :\", test_data[\"Date\"].min(),  \"-\", test_data[\"Date\"].max(),  \"| rows:\", len(test_data))\n",
        "\n",
        "# Display the last 3 and first 3 rows for Train and Test data respectively.\n",
        "display(train_data.tail(3))\n",
        "display(test_data.head(3))"
      ]
    },
    {
      "cell_type": "markdown",
      "id": "TKnWUJTNxLOX",
      "metadata": {
        "id": "TKnWUJTNxLOX"
      },
      "source": [
        "### 5) Scale Features & Export to `stock_train.csv` / `stock_test.csv`\n",
        "1) As we can see above the value for Open and Close are in the same range but for Volume it's value is around $10^6$-$10^7$ times the value of Open and Close.\n",
        "2) for our weights $w_1$,$w_2$ to be comparable (because with normal values of Volume, $w_2$ would be extremely small compared to $w_1$), we scale all of the data with their max values so all three i.e Open, Volume, Close remain in range (0,1)."
      ]
    },
    {
      "cell_type": "code",
      "execution_count": 5,
      "id": "aDKSMH5wxLOX",
      "metadata": {
        "colab": {
          "base_uri": "https://localhost:8080/",
          "height": 413
        },
        "id": "aDKSMH5wxLOX",
        "outputId": "2d8da251-f38d-4b51-b47d-f8cec2b4696b"
      },
      "outputs": [
        {
          "name": "stdout",
          "output_type": "stream",
          "text": [
            "Saved: stock_train.csv, stock_test.csv\n"
          ]
        },
        {
          "data": {
            "text/html": [
              "<div>\n",
              "<style scoped>\n",
              "    .dataframe tbody tr th:only-of-type {\n",
              "        vertical-align: middle;\n",
              "    }\n",
              "\n",
              "    .dataframe tbody tr th {\n",
              "        vertical-align: top;\n",
              "    }\n",
              "\n",
              "    .dataframe thead th {\n",
              "        text-align: right;\n",
              "    }\n",
              "</style>\n",
              "<table border=\"1\" class=\"dataframe\">\n",
              "  <thead>\n",
              "    <tr style=\"text-align: right;\">\n",
              "      <th></th>\n",
              "      <th>Opening Price (scaled)</th>\n",
              "      <th>Trading Volume (scaled)</th>\n",
              "      <th>Close (scaled)</th>\n",
              "    </tr>\n",
              "  </thead>\n",
              "  <tbody>\n",
              "    <tr>\n",
              "      <th>0</th>\n",
              "      <td>0.364365</td>\n",
              "      <td>0.317649</td>\n",
              "      <td>0.369253</td>\n",
              "    </tr>\n",
              "    <tr>\n",
              "      <th>1</th>\n",
              "      <td>0.365485</td>\n",
              "      <td>0.343070</td>\n",
              "      <td>0.365663</td>\n",
              "    </tr>\n",
              "    <tr>\n",
              "      <th>2</th>\n",
              "      <td>0.361352</td>\n",
              "      <td>0.277572</td>\n",
              "      <td>0.368577</td>\n",
              "    </tr>\n",
              "    <tr>\n",
              "      <th>3</th>\n",
              "      <td>0.368793</td>\n",
              "      <td>0.255262</td>\n",
              "      <td>0.366843</td>\n",
              "    </tr>\n",
              "    <tr>\n",
              "      <th>4</th>\n",
              "      <td>0.365497</td>\n",
              "      <td>0.309674</td>\n",
              "      <td>0.372744</td>\n",
              "    </tr>\n",
              "  </tbody>\n",
              "</table>\n",
              "</div>"
            ],
            "text/plain": [
              "   Opening Price (scaled)  Trading Volume (scaled)  Close (scaled)\n",
              "0                0.364365                 0.317649        0.369253\n",
              "1                0.365485                 0.343070        0.365663\n",
              "2                0.361352                 0.277572        0.368577\n",
              "3                0.368793                 0.255262        0.366843\n",
              "4                0.365497                 0.309674        0.372744"
            ]
          },
          "metadata": {},
          "output_type": "display_data"
        },
        {
          "data": {
            "text/html": [
              "<div>\n",
              "<style scoped>\n",
              "    .dataframe tbody tr th:only-of-type {\n",
              "        vertical-align: middle;\n",
              "    }\n",
              "\n",
              "    .dataframe tbody tr th {\n",
              "        vertical-align: top;\n",
              "    }\n",
              "\n",
              "    .dataframe thead th {\n",
              "        text-align: right;\n",
              "    }\n",
              "</style>\n",
              "<table border=\"1\" class=\"dataframe\">\n",
              "  <thead>\n",
              "    <tr style=\"text-align: right;\">\n",
              "      <th></th>\n",
              "      <th>Opening Price (scaled)</th>\n",
              "      <th>Trading Volume (scaled)</th>\n",
              "      <th>Close (scaled)</th>\n",
              "    </tr>\n",
              "  </thead>\n",
              "  <tbody>\n",
              "    <tr>\n",
              "      <th>1005</th>\n",
              "      <td>0.979194</td>\n",
              "      <td>0.100049</td>\n",
              "      <td>0.971834</td>\n",
              "    </tr>\n",
              "    <tr>\n",
              "      <th>1006</th>\n",
              "      <td>0.945106</td>\n",
              "      <td>0.193404</td>\n",
              "      <td>0.937055</td>\n",
              "    </tr>\n",
              "    <tr>\n",
              "      <th>1007</th>\n",
              "      <td>0.930310</td>\n",
              "      <td>0.136959</td>\n",
              "      <td>0.930039</td>\n",
              "    </tr>\n",
              "    <tr>\n",
              "      <th>1008</th>\n",
              "      <td>0.919856</td>\n",
              "      <td>0.168774</td>\n",
              "      <td>0.918227</td>\n",
              "    </tr>\n",
              "    <tr>\n",
              "      <th>1009</th>\n",
              "      <td>0.919049</td>\n",
              "      <td>0.146256</td>\n",
              "      <td>0.914542</td>\n",
              "    </tr>\n",
              "  </tbody>\n",
              "</table>\n",
              "</div>"
            ],
            "text/plain": [
              "      Opening Price (scaled)  Trading Volume (scaled)  Close (scaled)\n",
              "1005                0.979194                 0.100049        0.971834\n",
              "1006                0.945106                 0.193404        0.937055\n",
              "1007                0.930310                 0.136959        0.930039\n",
              "1008                0.919856                 0.168774        0.918227\n",
              "1009                0.919049                 0.146256        0.914542"
            ]
          },
          "metadata": {},
          "output_type": "display_data"
        }
      ],
      "source": [
        "Open_data_scale = train_data[\"Open\"].max()\n",
        "Volume_data_scale = train_data[\"Volume\"].max()\n",
        "Close_data_scale = train_data[\"Close\"].max()\n",
        "\n",
        "train_data[\"Opening Price (scaled)\"]  = train_data[\"Open\"]/Open_data_scale\n",
        "train_data[\"Trading Volume (scaled)\"] = train_data[\"Volume\"]/Volume_data_scale\n",
        "train_data[\"Close (scaled)\"] = train_data[\"Close\"]/Close_data_scale\n",
        "test_data[\"Opening Price (scaled)\"]   = test_data[\"Open\"]/Open_data_scale\n",
        "test_data[\"Trading Volume (scaled)\"]  = test_data[\"Volume\"]/Volume_data_scale\n",
        "test_data[\"Close (scaled)\"]  = test_data[\"Close\"]/Close_data_scale\n",
        "\n",
        "out_data_train = train_data[[\"Opening Price (scaled)\", \"Trading Volume (scaled)\", \"Close (scaled)\"]]\n",
        "out_data_test  = test_data[[\"Opening Price (scaled)\", \"Trading Volume (scaled)\", \"Close (scaled)\"]]\n",
        "\n",
        "out_data_train.to_csv(\"stock_train.csv\", index=False)\n",
        "out_data_test.to_csv(\"stock_test.csv\", index=False)\n",
        "\n",
        "print(\"Saved: stock_train.csv, stock_test.csv\")\n",
        "display(out_data_train.head(5))\n",
        "display(out_data_test.head(5))"
      ]
    },
    {
      "cell_type": "markdown",
      "id": "RmnY2pAbxLOY",
      "metadata": {
        "id": "RmnY2pAbxLOY"
      },
      "source": [
        "### 6) Train Linear Regression & Show Parameters"
      ]
    },
    {
      "cell_type": "code",
      "execution_count": 6,
      "id": "ieCy5H0JxLOY",
      "metadata": {
        "colab": {
          "base_uri": "https://localhost:8080/",
          "height": 164
        },
        "id": "ieCy5H0JxLOY",
        "outputId": "809752f6-1b72-44dc-f934-739ac3f7c4ac"
      },
      "outputs": [
        {
          "name": "stdout",
          "output_type": "stream",
          "text": [
            "Intercept (w0): 0.006216755291877374\n"
          ]
        },
        {
          "data": {
            "text/plain": [
              "Opening Price (scaled)     0.994142\n",
              "Trading Volume (scaled)   -0.007527\n",
              "Name: Coefficient, dtype: float64"
            ]
          },
          "metadata": {},
          "output_type": "display_data"
        }
      ],
      "source": [
        "Train_features = out_data_train[[\"Opening Price (scaled)\", \"Trading Volume (scaled)\"]]\n",
        "Close_Train = out_data_train[\"Close (scaled)\"]\n",
        "Test_features  = out_data_test[ [\"Opening Price (scaled)\", \"Trading Volume (scaled)\"]]\n",
        "Close_Test  = out_data_test[\"Close (scaled)\"]\n",
        "\n",
        "linreg = LinearRegression()\n",
        "linreg.fit(Train_features, Close_Train)\n",
        "\n",
        "coef_series = pd.Series(linreg.coef_, index=Train_features.columns, name=\"Coefficient\")\n",
        "print(\"Intercept (w0):\", linreg.intercept_)\n",
        "display(coef_series)"
      ]
    },
    {
      "cell_type": "markdown",
      "id": "_K7Tk80ixLOY",
      "metadata": {
        "id": "_K7Tk80ixLOY"
      },
      "source": [
        "### 7) Evaluate (MSE, R²) + Mean Baseline"
      ]
    },
    {
      "cell_type": "code",
      "execution_count": 7,
      "id": "gUbPmtLBxLOY",
      "metadata": {
        "colab": {
          "base_uri": "https://localhost:8080/"
        },
        "id": "gUbPmtLBxLOY",
        "outputId": "b0e76e6c-b0c0-41cc-e29b-f89b9e62e906"
      },
      "outputs": [
        {
          "name": "stdout",
          "output_type": "stream",
          "text": [
            "MSE (model): 5.7571\n",
            "R²  (model): 0.9911\n",
            "MSE (baseline mean): 42714.4678\n",
            "Model beats baseline: True\n"
          ]
        }
      ],
      "source": [
        "#Use the trained linear model to predict the Test Data\n",
        "Close_Pred = linreg.predict(Test_features)\n",
        "\n",
        "# Scale back the True and Predicted Values to their original range\n",
        "Close_Test = Close_Test*Close_data_scale\n",
        "Close_Pred = Close_Pred*Close_data_scale\n",
        "\n",
        "# Calculate the mse and r2\n",
        "mse = mean_squared_error(Close_Test, Close_Pred)\n",
        "r2  = r2_score(Close_Test, Close_Pred)\n",
        "\n",
        "# Calculate the baseline mean squared error using mean of the data as a model to compare with Regression.\n",
        "baseline_pred = np.full_like(Close_Test, fill_value=Close_Train.mean(), dtype=float)\n",
        "baseline_mse  = mean_squared_error(Close_Test, baseline_pred)\n",
        "\n",
        "print(f\"MSE (model): {mse:.4f}\")\n",
        "print(f\"R²  (model): {r2:.4f}\")\n",
        "print(f\"MSE (baseline mean): {baseline_mse:.4f}\")\n",
        "print(\"Model beats baseline:\", mse < baseline_mse)"
      ]
    },
    {
      "cell_type": "markdown",
      "id": "15QY29_ExLOY",
      "metadata": {
        "id": "15QY29_ExLOY"
      },
      "source": [
        "### 8) Visual Diagnostics"
      ]
    },
    {
      "cell_type": "code",
      "execution_count": 8,
      "id": "URR3kHbvxLOY",
      "metadata": {
        "colab": {
          "base_uri": "https://localhost:8080/",
          "height": 1000
        },
        "id": "URR3kHbvxLOY",
        "outputId": "8e6c8c29-07d6-4bf8-f907-60683a2464ff"
      },
      "outputs": [
        {
          "data": {
            "image/png": "[encoded data removed]",
            "text/plain": [
              "<Figure size 640x480 with 1 Axes>"
            ]
          },
          "metadata": {},
          "output_type": "display_data"
        },
        {
          "data": {
            "image/png": "[encoded data removed]",
            "text/plain": [
              "<Figure size 640x480 with 1 Axes>"
            ]
          },
          "metadata": {},
          "output_type": "display_data"
        },
        {
          "data": {
            "image/png": "[encoded data removed]",
            "text/plain": [
              "<Figure size 640x480 with 1 Axes>"
            ]
          },
          "metadata": {},
          "output_type": "display_data"
        },
        {
          "data": {
            "image/png": "[encoded data removed]",
            "text/plain": [
              "<Figure size 640x480 with 1 Axes>"
            ]
          },
          "metadata": {},
          "output_type": "display_data"
        },
        {
          "data": {
            "image/png": "[encoded data removed]",
            "text/plain": [
              "<Figure size 640x480 with 1 Axes>"
            ]
          },
          "metadata": {},
          "output_type": "display_data"
        }
      ],
      "source": [
        "# 8a) Actual vs Predicted\n",
        "plot.figure()\n",
        "plot.scatter(Close_Test, Close_Pred)\n",
        "plot.xlabel(\"Actual Close\")\n",
        "plot.ylabel(\"Predicted Close\")\n",
        "plot.title(\"Actual vs Predicted Closing Price\")\n",
        "plot.show()\n",
        "\n",
        "# 8b) Residuals vs Index\n",
        "residuals = Close_Test.values - Close_Pred\n",
        "plot.figure()\n",
        "plot.scatter(np.arange(len(residuals)), residuals)\n",
        "plot.axhline(0, linestyle=\"--\")\n",
        "plot.xlabel(\"Test Sample Index\")\n",
        "plot.ylabel(\"Residual (Close_Test - Close_Pred)\")\n",
        "plot.title(\"Residuals Plot\")\n",
        "plot.show()\n",
        "\n",
        "# 8c) Residuals histogram\n",
        "plot.figure()\n",
        "plot.hist(residuals, bins=20)\n",
        "plot.title(\"Residuals Distribution\")\n",
        "plot.xlabel(\"Error\")\n",
        "plot.ylabel(\"Frequency\")\n",
        "plot.show()\n",
        "\n",
        "# # 8d) Q–Q plot\n",
        "import scipy.stats as stats\n",
        "plot.figure()\n",
        "stats.probplot(residuals, dist=\"norm\", plot=plot)\n",
        "plot.title(\"Q–Q Plot of Residuals\")\n",
        "plot.show()\n",
        "\n",
        "# 8d) Predicted vs Residuals\n",
        "plot.figure()\n",
        "plot.scatter(Close_Pred, residuals)\n",
        "plot.axhline(0, linestyle=\"--\")\n",
        "plot.title(\"Predicted vs Residuals\")\n",
        "plot.xlabel(\"Predicted\")\n",
        "plot.ylabel(\"Residual\")\n",
        "plot.show()"
      ]
    },
    {
      "cell_type": "markdown",
      "id": "d78551f5",
      "metadata": {
        "id": "d78551f5"
      },
      "source": [
        "### **Conclusion**\n",
        "- **The Weights** :\n",
        "$$\n",
        "w_0 = 0.0062\n",
        "$$\n",
        "$$\n",
        "w_1 = 0.9941\n",
        "$$\n",
        "$$\n",
        "w_2 = -0.0075\n",
        "$$\n",
        "\n",
        "We can see that even after scaling all the paramters to the same range, the weight for Volume ($w_2$) is still around $10^3$ times smaller than $w_1$, from this we can say that even without the Volume as a parameter, the result of regression shouldn't change much.\n",
        "\n",
        "- **Mean Squared Error (MSE)**  &  $\\mathbf{R^2}$ :\n",
        "$$\n",
        "\\text{MSE} = 5.7571\n",
        "$$\n",
        "$$\n",
        "R^2 = 0.9913\n",
        "$$\n",
        "The values for MSE and $R^2$ shows that our Linear Regression Model has excellent performance and is working perfectly as MSE is around 8000x smaller than the baseline MSE calculated with Mean as a model, and coefficient of determination $R^2$ $\\approx$ 0.99 shows that the model is able to explain almost all of the variance in the data.\n",
        "\n",
        "### **Diagnostic Plot Analysis**  \n",
        "\n",
        "- **Actual vs Predicted** – Shows how close predictions are to real values.  \n",
        "  **Conclusion:** Predictions are good because most points lie close to the diagonal line.  \n",
        "\n",
        "- **Residuals vs Index** – Checks whether errors change over time.  \n",
        "  **Conclusion:** No time-based pattern; errors are scattered randomly around zero.  \n",
        "\n",
        "- **Residual Histogram** – Displays the shape of the error distribution.  \n",
        "  **Conclusion:** Looks roughly bell-shaped, meaning the errors are approximately normal.  \n",
        "\n",
        "- **Q–Q Plot** – Compares the distribution of errors to a normal curve.  \n",
        "  **Conclusion:** Errors are close to normal since most points follow the reference line.  \n",
        "\n",
        "- **Residuals vs Predicted** – Checks whether error size changes with predictions.  \n",
        "  **Conclusion:** Variance is constant because errors are spread evenly.  \n",
        "\n",
        "\n",
        "  *The Values for the weights($w_0$,$w_1$,$w_2$), MSE and $R^2$ may change with change in data but they still follow the same trend/result achieved here.*\n"
      ]
    }
  ],
  "metadata": {
    "colab": {
      "provenance": []
    },
    "kernelspec": {
      "display_name": "Python 3",
      "language": "python",
      "name": "python3"
    },
    "language_info": {
      "codemirror_mode": {
        "name": "ipython",
        "version": 3
      },
      "file_extension": ".py",
      "mimetype": "text/x-python",
      "name": "python",
      "nbconvert_exporter": "python",
      "pygments_lexer": "ipython3",
      "version": "3.11.4"
    }
  },
  "nbformat": 4,
  "nbformat_minor": 5
}
