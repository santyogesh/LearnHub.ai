{
  "nbformat": 4,
  "nbformat_minor": 0,
  "metadata": {
    "colab": {
      "provenance": []
    },
    "kernelspec": {
      "name": "python3",
      "display_name": "Python 3"
    },
    "language_info": {
      "name": "python"
    }
  },
  "cells": [
    {
      "cell_type": "markdown",
      "source": [
        "# Assignment 1 CS 419: Vector Representation of the Target Variable (y)\n",
        "**Student 1 Name**: Vedika Doke\\\n",
        "**Student 1 Roll**: 24B1231\\\n",
        "**Student 2 Name**: Aditya Khambete\\\n",
        "**Student 2 Roll**: 23B3315\n",
        "\n",
        "---\n",
        "This notebook is a self-contained submission for Assignment 1 Group T. It includes both the implementation and the wiki article. All cells can be run sequentially to view the results"
      ],
      "metadata": {
        "id": "w7szj0o0jmc1"
      }
    },
    {
      "cell_type": "markdown",
      "source": [
        "## Part 1: The Code Implementation\n",
        "This section contains the Python code and step by step explaination for loading data, extracting the target variable `y` and performing an analysis of its distribution."
      ],
      "metadata": {
        "id": "ct56FWV-leT6"
      }
    },
    {
      "cell_type": "markdown",
      "source": [
        "### Step 1: Setup\n",
        "This step imports all the relevant libraries, and loads the credit card fraud dataset from a public URL."
      ],
      "metadata": {
        "id": "NduaHmzSl1sA"
      }
    },
    {
      "cell_type": "code",
      "source": [
        "# Importing the standard DS libraries\n",
        "import numpy as np\n",
        "import pandas as pd\n",
        "import matplotlib.pyplot as plt\n",
        "import seaborn as sns"
      ],
      "metadata": {
        "id": "V36tP_wyncCt"
      },
      "execution_count": null,
      "outputs": []
    },
    {
      "cell_type": "code",
      "source": [
        "url = 'https://storage.googleapis.com/download.tensorflow.org/data/creditcard.csv'\n",
        "\"\"\"\n",
        "Dataset Structure\n",
        "---------------------------------------\n",
        "The dataset is a result of a PCA Dimensionality reduction to protect user identities\n",
        "and sensitive features(v1-v28)\n",
        "\"\"\"\n",
        "df = pd.read_csv(url) # Loading the dataset from the URL\n",
        "print('Dataset loaded successfully, here are the first few rows:')\n",
        "print(df.head())"
      ],
      "metadata": {
        "colab": {
          "base_uri": "https://localhost:8080/"
        },
        "id": "JDK8Kuarnvoo",
        "outputId": "42a052a7-e810-4726-ef64-ee12d4ae58ac"
      },
      "execution_count": null,
      "outputs": [
        {
          "output_type": "stream",
          "name": "stdout",
          "text": [
            "Dataset loaded successfully, here are the first few rows:\n",
            "   Time        V1        V2        V3        V4        V5        V6        V7  \\\n",
            "0   0.0 -1.359807 -0.072781  2.536347  1.378155 -0.338321  0.462388  0.239599   \n",
            "1   0.0  1.191857  0.266151  0.166480  0.448154  0.060018 -0.082361 -0.078803   \n",
            "2   1.0 -1.358354 -1.340163  1.773209  0.379780 -0.503198  1.800499  0.791461   \n",
            "3   1.0 -0.966272 -0.185226  1.792993 -0.863291 -0.010309  1.247203  0.237609   \n",
            "4   2.0 -1.158233  0.877737  1.548718  0.403034 -0.407193  0.095921  0.592941   \n",
            "\n",
            "         V8        V9  ...       V21       V22       V23       V24       V25  \\\n",
            "0  0.098698  0.363787  ... -0.018307  0.277838 -0.110474  0.066928  0.128539   \n",
            "1  0.085102 -0.255425  ... -0.225775 -0.638672  0.101288 -0.339846  0.167170   \n",
            "2  0.247676 -1.514654  ...  0.247998  0.771679  0.909412 -0.689281 -0.327642   \n",
            "3  0.377436 -1.387024  ... -0.108300  0.005274 -0.190321 -1.175575  0.647376   \n",
            "4 -0.270533  0.817739  ... -0.009431  0.798278 -0.137458  0.141267 -0.206010   \n",
            "\n",
            "        V26       V27       V28  Amount  Class  \n",
            "0 -0.189115  0.133558 -0.021053  149.62      0  \n",
            "1  0.125895 -0.008983  0.014724    2.69      0  \n",
            "2 -0.139097 -0.055353 -0.059752  378.66      0  \n",
            "3 -0.221929  0.062723  0.061458  123.50      0  \n",
            "4  0.502292  0.219422  0.215153   69.99      0  \n",
            "\n",
            "[5 rows x 31 columns]\n"
          ]
        }
      ]
    },
    {
      "cell_type": "markdown",
      "source": [
        "### Step 2: Extracting the Target Variable `y`\n",
        "This step isolates the target variable, which is stored in the row 'Class' in the DataFrame."
      ],
      "metadata": {
        "id": "0_-mlz1KpTbb"
      }
    },
    {
      "cell_type": "code",
      "source": [
        "y_vector = df['Class'].to_numpy() # Loads the output vector into a NumPy vector, the standard format for ML"
      ],
      "metadata": {
        "id": "R0kjPC2-pwVy"
      },
      "execution_count": null,
      "outputs": []
    },
    {
      "cell_type": "code",
      "source": [
        "print(f'Shape of the target vector: {y_vector.shape}')\n",
        "print(f'First 15 elements of y: {y_vector[:15]}') # Printing the first few elements\n",
        "\n",
        "# Note that 1 represents fraud, while 0 represents legitimate"
      ],
      "metadata": {
        "colab": {
          "base_uri": "https://localhost:8080/"
        },
        "id": "Zb8FXVIJqJWL",
        "outputId": "7470a56c-82fb-4c18-810a-3154216f8b5b"
      },
      "execution_count": null,
      "outputs": [
        {
          "output_type": "stream",
          "name": "stdout",
          "text": [
            "Shape of the target vector: (284807,)\n",
            "First 15 elements of y: [0 0 0 0 0 0 0 0 0 0 0 0 0 0 0]\n"
          ]
        }
      ]
    },
    {
      "cell_type": "markdown",
      "source": [
        "### Step 3: Performing Vector Analysis\n",
        "This step does some operations to understand the distribution. This reveals the severe class imbalance, a critical insight for this particular problem."
      ],
      "metadata": {
        "id": "9Ujb6QVQq7F5"
      }
    },
    {
      "cell_type": "code",
      "source": [
        "fraud_rate = np.mean(y_vector) # In a binary vector, mean gives proportion of the positive class\n",
        "print(f'Mean of y (Fraud Rate) = {fraud_rate}')\n",
        "print(f\"This means the fraud rate in the dataset is: {fraud_rate:.4%}\\n\")"
      ],
      "metadata": {
        "colab": {
          "base_uri": "https://localhost:8080/"
        },
        "id": "ICFpM8VOrQmB",
        "outputId": "f5f555f1-4ea5-4e14-b111-ea187c598c59"
      },
      "execution_count": null,
      "outputs": [
        {
          "output_type": "stream",
          "name": "stdout",
          "text": [
            "Mean of y (Fraud Rate) = 0.001727485630620034\n",
            "This means the fraud rate in the dataset is: 0.1727%\n",
            "\n"
          ]
        }
      ]
    },
    {
      "cell_type": "code",
      "source": [
        "classes, counts = np.unique(y_vector, return_counts=True) # To find the absolute number of transactions in each class\n",
        "print(f'Class 0 (Not Fraud): {counts[0]}')\n",
        "print(f'Class 1 (Fraud): {counts[1]}')"
      ],
      "metadata": {
        "colab": {
          "base_uri": "https://localhost:8080/"
        },
        "id": "Aw4Ijp5mrupC",
        "outputId": "65b8df9a-4da6-4119-eefc-39e58462d235"
      },
      "execution_count": null,
      "outputs": [
        {
          "output_type": "stream",
          "name": "stdout",
          "text": [
            "Class 0 (Not Fraud): 284315\n",
            "Class 1 (Fraud): 492\n"
          ]
        }
      ]
    },
    {
      "cell_type": "markdown",
      "source": [
        "### Step 4: Visualizing the Distribution\n",
        "This section visualizes the distribution of the target vector `y`"
      ],
      "metadata": {
        "id": "0gVuzYEbrtIF"
      }
    },
    {
      "cell_type": "code",
      "source": [
        "# The visual style\n",
        "sns.set_style(\"whitegrid\")\n",
        "plt.figure(figsize=(8, 6))\n",
        "\n",
        "# Count Plot\n",
        "plot = sns.countplot(x=y_vector)\n",
        "\n",
        "# Adding labels and scale\n",
        "plot.set_title('Distribution of Transaction Classes (Log Scale)', fontsize=16)\n",
        "plot.set_xlabel('Class', fontsize=14)\n",
        "plot.set_ylabel('Count', fontsize=14)\n",
        "plt.yscale('log') # Logarithmic Scale, so that the tiny bar for fraudulent transactions is visible\n",
        "\n",
        "# Display\n",
        "plt.show()"
      ],
      "metadata": {
        "colab": {
          "base_uri": "https://localhost:8080/",
          "height": 571
        },
        "id": "Z8hx4mp3uLQc",
        "outputId": "d2268348-5b9a-4ee4-8c71-e652a0d9ed16"
      },
      "execution_count": null,
      "outputs": [
        {
          "output_type": "display_data",
          "data": {
            "text/plain": [
              "<Figure size 800x600 with 1 Axes>"
            ],
            "image/png": "[encoded data removed]"
          },
          "metadata": {}
        }
      ]
    },
    {
      "cell_type": "markdown",
      "source": [
        "## Part 2: The Wiki Article\n",
        "This section presents the assignment's findings in the format of an encyclopedic wiki article."
      ],
      "metadata": {
        "id": "BMw8v915uPEu"
      }
    },
    {
      "cell_type": "markdown",
      "source": [
        "### The Target Vector in FinTech applications\n",
        "#### 1. Overview\n",
        "In the FinTech domain, decision-making relies heavily on insights derived from transaction data. This data is a critical factor for applications such as fraud detection and loan approval. A foundational concept in building machine learning models for these tasks is the representation of the **target variable**, denoted as **y**, in a structured vector format. This vector, with a length `m` equal to the number of input instances, serves as the model’s ultimate prediction goal and must be accurately extracted from the dataset.\n",
        "\n",
        "Using the credit card fraud detection dataset as an example, `y` is a variable that takes a value of either `0` (legitimate transaction) or `1` (fraudulent transaction). Representing this as a column vector allows for direct mathematical operations and analysis, such as calculating the percentage of fraudulent cases relative to all transactions [Lec 1; Slide 19].\n",
        "\n",
        "The concept also extends to multilingual data handling, where input features (`x`) may exist in multiple languages, but the target vector `y` remains a consistent numerical value. Finally, analyzing the distribution of `y` is essential to understand potential imbalances, such as the ratio of fraudulent to non-fraudulent transactions, which is a key factor in designing effective fraud detection models.\n",
        "\n",
        "\n",
        "#### 2. Methodology\n",
        "In Machine Learning notation, the target vector `y` is formally represented as a column vector with `m` elements, where `m` represents the number of examples in the training dataset [Lec 1; Slide 19].\n",
        "\n",
        "$y = \\begin{bmatrix} y_1 \\\\ y_2 \\\\ y_3 \\\\ \\vdots \\\\y_m \\end{bmatrix}$\n",
        "\n",
        "Each $y_i$ denotes the known outcome for the *i-th* training example. It corresponds to the *i-th* row of the feature matrix $\\Phi$, which contains the independent variable (the `x`) for that example.\n",
        "\n",
        "#### 3. FinTech Applications\n",
        "In financial technology, fraud detection systems rely on accurately identifying fraudulent transactions, which are typically rare compared to legitimate ones. In the dataset analyzed in this project, the ratio of fraudulent cases to total cases is approximately **0.17%**. Such a severe class imbalance can bias models toward predicting the majority class (non-fraud). Quantifying this imbalance by analyzing the distribution of `y` is a critical first step.\n",
        "\n",
        "This analysis ensures that the machine learning pipeline is designed to address the dataset’s real-world imbalance, which may involve using specialized techniques. This leads to more reliable and effective fraud detection systems in FinTech applications.\n",
        "\n",
        "\n",
        "#### 4. Multilingual Data Handling\n",
        "\n",
        "In real-world FinTech scenarios, transaction details and other features (`x`) may be stored in multiple languages (e.g., English, Hindi, Marathi). A key challenge is to normalize these inputs so that a model can interpret them uniformly, while the target vector `y` remains consistent. For example, a loan default is `1` regardless of the language of the application.\n",
        "\n",
        "A conceptual preprocessing approach includes these steps:\n",
        "*   **Language Detection:** Identifying the language of each text entry.\n",
        "*   **Translation or Multilingual Embeddings:** Converting all text into a single language (e.g., English) or using models that generate language-agnostic numerical embeddings.\n",
        "*   **Vectorization:** Transforming the normalized text into a numerical format that the model can process.\n",
        "\n",
        "Throughout this process, `y` is unchanged, as it is already in a uniform, language-agnostic numerical format. By unifying the multilingual input features, it can be ensured that the model’s interpretation of transactions is consistent, while `y` remains an accurate representation of the target.\n",
        "\n",
        "The dataset in this project can be viewed as the *result* of such a process, where all original features, including any potential text data has been vectorized and anonymized via PCA into a numerical embedding suitable for a machine learning model.\n",
        "\n",
        "#### 5. Implementation\n",
        "The practical analysis was implemented in Python within the first part of this notebook. The high-level steps were:\n",
        "*    **Setup:** The relevant libraries were loaded followed by the dataset of credit card fraud which was loaded from a public URL into a `pandas` DataFrame. The dataset is numerical and is a result of PCA Dimensionality reduction to protect user identities and sensitive features(v1-v28).\n",
        "\n",
        "*    **Extracting the Target Vector:** The target vector was loaded from the `Class` row in the DataFrame to a `numpy` vector `y_vector`\n",
        "*    **Analysis:** Basic `numpy` operations were done on `y_vector` to calculate the mean of the vector (fraud rate), and the distribution among the two classes was counted.\n",
        "*    **Visualisation:** The `seaborn` library was used to generate a count plot, visually demonstrating the class imbalance. Logarithmic scale was used on the y-axis for clarity.\n",
        "\n",
        "#### 6. Conclusion\n",
        "The target vector `y` is a fundamental concept in supervised machine learning. The proper extraction and representation of the target vector are the first steps towards building any predictive model. As demonstrated with the credit card fraud detection use-case, a preliminary analysis of the target vector provides critical insights such as class imbalance, which directly affects the strategy for model development, and hence ensures the creation of robust solutions.\n",
        "\n",
        "#### Citations and References\n",
        "1. CS 419 Slides, Autumn 2025, Prof. Ganesh Ramakrishnan\n",
        "2. Dataset: https://www.kaggle.com/datasets/mlg-ulb/creditcardfraud"
      ],
      "metadata": {
        "id": "BfbokZi0vA6n"
      }
    }
  ]
}