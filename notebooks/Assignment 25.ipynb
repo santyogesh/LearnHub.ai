{
 "cells": [
  {
   "cell_type": "markdown",
   "id": "bfdda0de",
   "metadata": {},
   "source": [
    "# Stochastic Gradient Descent for Scalable FinTech Models\n",
    "\n",
    "## Overview\n",
    "\n",
    "Stochastic Gradient Descent (SGD) is a foundational optimization algorithm commonly used in machine learning and deep learning, especially for training models on large datasets. Unlike traditional batch gradient descent, which computes parameter updates using all training data, SGD updates model parameters after processing each individual data point. This approach drastically improves efficiency for large-scale problems and is highly applicable in FinTech, where data volume and velocity are critical. In this article, we discuss the theory behind SGD, its relevance for parameterized regression, implementation details, practical benefits for multilingual financial data, and its real-world use in financial technology.\n",
    "\n",
    "---\n",
    "\n",
    "## Methodology\n",
    "\n",
    "The general goal of regression in machine learning is to minimize a loss or error function with respect to model parameters, denoted $w$. For linear regression, the loss function often used is Mean Squared Error (MSE):\n",
    "\n",
    "$$\n",
    "E(w) = \\frac{1}{N} \\sum_{i=1}^N (y_i - f(x_i; w))^2\n",
    "$$\n",
    "\n",
    "**Batch Gradient Descent Update Rule:**\n",
    "\n",
    "$$\n",
    "w := w - \\eta \\cdot \\nabla_w E(w)\n",
    "$$\n",
    "\n",
    "where:\n",
    "- $\\eta$ is the learning rate,\n",
    "- $\\nabla_w E(w)$ is the gradient of the error function with respect to parameters $w$.\n",
    "\n",
    "**Stochastic Gradient Descent Update Rule:**\n",
    "\n",
    "Instead of using all $N$ examples, SGD randomly selects a single training sample $(x_i, y_i)$ and updates the parameters:\n",
    "\n",
    "$$\n",
    "w := w - \\eta \\cdot \\nabla_w E(w; x_i, y_i)\n",
    "$$\n",
    "\n",
    "where:\n",
    "- $\\nabla_w E(w; x_i, y_i)$ is the gradient computed only for the selected example.\n",
    "\n",
    "**SGD vs. Batch Gradient Descent**\n",
    "\n",
    "- **SGD**: Faster, more memory-efficient, introduces stochasticity (randomness) that can help escape shallow local minima and saddle points.  \n",
    "- **Batch**: Smoother convergence but slower and less scalable for very large datasets.\n",
    "\n",
    "---\n",
    "\n",
    "## Multilingual Data Handling\n",
    "\n",
    "Financial services operate globally, ingesting data in multiple languages and formats. Large-scale transaction records, customer profiles, and market data may contain multilingual content. SGD is beneficial because:\n",
    "\n",
    "* It allows incremental learning from small, randomized chunks of data—making it ideal when the full dataset cannot fit in memory.\n",
    "* Supports distributed training, streaming data, and parallel computation, which are crucial when working with heterogeneous, multilingual, and evolving datasets.\n",
    "* Enables model updates as new language sources or data become available without retraining on the entire dataset.\n",
    "\n",
    "---\n",
    "\n",
    "## FinTech Applications\n",
    "\n",
    "SGD is widely used across FinTech for:\n",
    "- **Algorithmic trading**: Updating prediction models with new price or volume data in real-time.\n",
    "- **Credit scoring**: Learning from customer transactions or demographic information, possibly in several languages, to predict risk.\n",
    "- **Fraud detection**: Quickly adapting fraud identification models to new patterns using rapidly streaming financial transactions.\n",
    "- **Risk modeling and portfolio optimization**: Training regression or classification models on large, diverse financial datasets.\n",
    "\n",
    "Its scalability is invaluable in settings where millions of records arrive daily and models must react instantly.\n",
    "\n",
    "---\n",
    "\n",
    "## Implementation\n",
    "\n",
    "Below is a high-level outline of SGD applied to linear regression for next-day stock price prediction. Features may include Open, High, Low, Previous Close, and Volume.\n",
    "\n",
    "Example SGD pseudocode:\n",
    "\n",
    "    def stochastic_gradient_descent(X, y, lr=0.001, epochs=50):\n",
    "        m, n = X.shape\n",
    "        w = np.zeros((n, 1))\n",
    "        for epoch in range(epochs):\n",
    "        for i in range(m):\n",
    "        xi = X[i].reshape(1, -1)\n",
    "        yi = y[i]\n",
    "        y_pred = np.dot(xi, w)\n",
    "        gradient = 2 * np.dot(xi.T, (y_pred - yi))\n",
    "        w -= lr * gradient\n",
    "        return w\n",
    "\n",
    "\n",
    "**Key Points:**\n",
    "- Parameters `w` are updated after each data sample.\n",
    "- Learning rate (`lr`) must be carefully tuned to prevent divergence.\n",
    "- Data normalization is important for stable convergence.\n",
    "\n",
    "For large datasets, mini-batch SGD variants offer better stability and convergence.\n",
    "\n",
    "---\n",
    "\n",
    "## Evaluation Metrics\n",
    "\n",
    "SGD and batch methods are compared using:\n",
    "- **Mean Squared Error (MSE):** Lower values indicate better predictions.\n",
    "- **Convergence rate:** Epochs required for the loss to stabilize.\n",
    "- **Loss curves:** Visual comparison of loss vs. epoch for each method.\n",
    "\n",
    "### Example Loss Curve\n",
    "\n",
    "A well-behaved SGD run will show noisy, oscillatory descent but trend toward similar final MSE as batch gradient descent. Both methods should converge to comparable solution quality but differ in efficiency and behavior.\n",
    "\n",
    "---\n",
    "\n",
    "## References\n",
    "\n",
    "- [Kaggle S&P 500 Dataset](https://www.kaggle.com/datasets/camnugent/sandp500)\n",
    "- [GeeksforGeeks: Stochastic Gradient Descent](https://www.geeksforgeeks.org/machine-learning/ml-stochastic-gradient-descent-sgd/)\n",
    "- [OpenGenus: Basics of Gradient Descent](https://iq.opengenus.org/stochastic-gradient-descent-sgd/)\n",
    "- [Real Python: Gradient Descent Algorithm](https://realpython.com/gradient-descent-algorithm-python/)\n",
    "\n",
    "---\n"
   ]
  },
  {
   "cell_type": "markdown",
   "id": "d021c04a",
   "metadata": {},
   "source": [
    "## Dataset Download Instructions\n",
    "The dataset used in this project is the [S&P 500 stock data](https://www.kaggle.com/datasets/camnugent/sandp500).  \n",
    "- Download `all_stocks_5yr.csv` from Kaggle and upload to your Colab/Jupyter environment.\n",
    "- This dataset contains historical daily price data for S&P 500 companies over 5 years, including Open, High, Low, Close, and Volume columns."
   ]
  },
  {
   "cell_type": "code",
   "execution_count": 37,
   "id": "1f4ca309",
   "metadata": {},
   "outputs": [],
   "source": [
    "import pandas as pd\n",
    "import numpy as np\n",
    "import matplotlib.pyplot as plt\n",
    "from sklearn.preprocessing import StandardScaler\n",
    "from sklearn.metrics import mean_squared_error"
   ]
  },
  {
   "cell_type": "markdown",
   "id": "ccfa2804",
   "metadata": {},
   "source": [
    "## Imports and Data Loading\n",
    "We start by importing essential libraries for data manipulation, numerical computation, and visualization.  \n",
    "We load the `all_stocks_5yr.csv` file, which contains daily stock prices for S&P 500 companies."
   ]
  },
  {
   "cell_type": "markdown",
   "id": "c8dd01c8",
   "metadata": {},
   "source": [
    "## Data Preview and Initial Processing\n",
    "Let's check the basic structure of the dataset.  \n",
    "Typical relevant columns are: `date`, `open`, `high`, `low`, `close`, `volume`, and `Name` (stock ticker)."
   ]
  },
  {
   "cell_type": "code",
   "execution_count": 38,
   "id": "ee8245b6",
   "metadata": {},
   "outputs": [
    {
     "name": "stdout",
     "output_type": "stream",
     "text": [
      "Index(['date', 'open', 'high', 'low', 'close', 'volume', 'Name'], dtype='object')\n"
     ]
    },
    {
     "data": {
      "text/html": [
       "<div>\n",
       "<style scoped>\n",
       "    .dataframe tbody tr th:only-of-type {\n",
       "        vertical-align: middle;\n",
       "    }\n",
       "\n",
       "    .dataframe tbody tr th {\n",
       "        vertical-align: top;\n",
       "    }\n",
       "\n",
       "    .dataframe thead th {\n",
       "        text-align: right;\n",
       "    }\n",
       "</style>\n",
       "<table border=\"1\" class=\"dataframe\">\n",
       "  <thead>\n",
       "    <tr style=\"text-align: right;\">\n",
       "      <th></th>\n",
       "      <th>date</th>\n",
       "      <th>open</th>\n",
       "      <th>high</th>\n",
       "      <th>low</th>\n",
       "      <th>close</th>\n",
       "      <th>volume</th>\n",
       "      <th>Name</th>\n",
       "    </tr>\n",
       "  </thead>\n",
       "  <tbody>\n",
       "    <tr>\n",
       "      <th>0</th>\n",
       "      <td>2013-02-08</td>\n",
       "      <td>15.07</td>\n",
       "      <td>15.12</td>\n",
       "      <td>14.63</td>\n",
       "      <td>14.75</td>\n",
       "      <td>8407500</td>\n",
       "      <td>AAL</td>\n",
       "    </tr>\n",
       "    <tr>\n",
       "      <th>1</th>\n",
       "      <td>2013-02-11</td>\n",
       "      <td>14.89</td>\n",
       "      <td>15.01</td>\n",
       "      <td>14.26</td>\n",
       "      <td>14.46</td>\n",
       "      <td>8882000</td>\n",
       "      <td>AAL</td>\n",
       "    </tr>\n",
       "    <tr>\n",
       "      <th>2</th>\n",
       "      <td>2013-02-12</td>\n",
       "      <td>14.45</td>\n",
       "      <td>14.51</td>\n",
       "      <td>14.10</td>\n",
       "      <td>14.27</td>\n",
       "      <td>8126000</td>\n",
       "      <td>AAL</td>\n",
       "    </tr>\n",
       "    <tr>\n",
       "      <th>3</th>\n",
       "      <td>2013-02-13</td>\n",
       "      <td>14.30</td>\n",
       "      <td>14.94</td>\n",
       "      <td>14.25</td>\n",
       "      <td>14.66</td>\n",
       "      <td>10259500</td>\n",
       "      <td>AAL</td>\n",
       "    </tr>\n",
       "    <tr>\n",
       "      <th>4</th>\n",
       "      <td>2013-02-14</td>\n",
       "      <td>14.94</td>\n",
       "      <td>14.96</td>\n",
       "      <td>13.16</td>\n",
       "      <td>13.99</td>\n",
       "      <td>31879900</td>\n",
       "      <td>AAL</td>\n",
       "    </tr>\n",
       "  </tbody>\n",
       "</table>\n",
       "</div>"
      ],
      "text/plain": [
       "         date   open   high    low  close    volume Name\n",
       "0  2013-02-08  15.07  15.12  14.63  14.75   8407500  AAL\n",
       "1  2013-02-11  14.89  15.01  14.26  14.46   8882000  AAL\n",
       "2  2013-02-12  14.45  14.51  14.10  14.27   8126000  AAL\n",
       "3  2013-02-13  14.30  14.94  14.25  14.66  10259500  AAL\n",
       "4  2013-02-14  14.94  14.96  13.16  13.99  31879900  AAL"
      ]
     },
     "execution_count": 38,
     "metadata": {},
     "output_type": "execute_result"
    }
   ],
   "source": [
    "df = pd.read_csv(\"C:/Users/Pushp Raj Choudhary/Downloads/all_stocks_5yr.csv\")\n",
    "print(df.columns)\n",
    "df.head()"
   ]
  },
  {
   "cell_type": "markdown",
   "id": "5af0fd19",
   "metadata": {},
   "source": [
    "## Feature Engineering\n",
    "To forecast the next day's closing price, we use the current day's open, high, low, previous close, and volume.  \n",
    "Rows with missing data from shifting (first and last of each ticker) are dropped to ensure every row has valid features and target."
   ]
  },
  {
   "cell_type": "code",
   "execution_count": 39,
   "id": "8f6d690c",
   "metadata": {},
   "outputs": [],
   "source": [
    "# Sorting by ticker & date for next-day cal.\n",
    "df = df.sort_values(['Name', 'date'])\n",
    "\n",
    "# Create Prev_Close and next day's close (this is the target)\n",
    "df['Prev_Close'] = df.groupby('Name')['close'].shift(1)\n",
    "df['Target'] = df.groupby('Name')['close'].shift(-1)\n",
    "\n",
    "# Droping rows with missing values (NaN cleaning {preprocessing})\n",
    "df = df.dropna(subset=['Prev_Close', 'Target', 'open', 'high', 'low', 'volume'])\n",
    "\n",
    "# Features that we will use here (can add more later if needed)\n",
    "features = ['open', 'high', 'low', 'Prev_Close', 'volume']\n",
    "X = df[features].values\n",
    "y = df['Target'].values.reshape(-1, 1)"
   ]
  },
  {
   "cell_type": "markdown",
   "id": "226a5bf0",
   "metadata": {},
   "source": [
    "## Data Normalization and Train/Test Split\n",
    "Features and target are scaled to have mean 0 and variance 1, helping gradient algorithms converge.  \n",
    "The data is then split into training and testing sets for unbiased evaluation of the models' predictive performance."
   ]
  },
  {
   "cell_type": "code",
   "execution_count": 47,
   "id": "9432c328",
   "metadata": {},
   "outputs": [],
   "source": [
    "scaler_X = StandardScaler()\n",
    "scaler_y = StandardScaler()\n",
    "\n",
    "X_scaled = scaler_X.fit_transform(X)\n",
    "y_scaled = scaler_y.fit_transform(y)\n",
    "\n",
    "# train test split\n",
    "split_idx = int(0.8 * len(X_scaled))\n",
    "X_train, X_test = X_scaled[:split_idx], X_scaled[split_idx:]\n",
    "y_train, y_test = y_scaled[:split_idx], y_scaled[split_idx:]"
   ]
  },
  {
   "cell_type": "markdown",
   "id": "180453c8",
   "metadata": {},
   "source": [
    "## Batch Gradient Descent Implementation\n",
    "Batch Gradient Descent updates the weights after evaluating the gradient over the entire training set in each epoch.  \n",
    "It is generally more stable but can be slow and memory-intensive for large datasets."
   ]
  },
  {
   "cell_type": "code",
   "execution_count": null,
   "id": "26ddb639",
   "metadata": {},
   "outputs": [
    {
     "name": "stdout",
     "output_type": "stream",
     "text": [
      "Epoch 0, Loss: 1.194224\n",
      "Epoch 10, Loss: 0.159928\n",
      "Epoch 20, Loss: 0.022444\n",
      "Epoch 30, Loss: 0.003964\n",
      "Epoch 40, Loss: 0.001350\n"
     ]
    }
   ],
   "source": [
    "def batch_gradient_descent(X, y, lr, epochs):\n",
    "    m, n = X.shape\n",
    "    w = np.zeros((n, 1))\n",
    "    loss_history = []\n",
    "    for epoch in range(epochs):\n",
    "        y_pred = np.dot(X, w)\n",
    "        loss = np.mean((y_pred - y)**2)\n",
    "        loss_history.append(loss)\n",
    "        gradient = (2/m) * np.dot(X.T, (y_pred - y))\n",
    "        w -= lr * gradient\n",
    "        if epoch % 10 == 0:\n",
    "            print(f\"Epoch {epoch}, Loss: {loss:.6f}\")\n",
    "    return w, loss_history\n",
    "\n",
    "w_batch, loss_batch = batch_gradient_descent(X_train, y_train, lr=0.0001, epochs=50)"
   ]
  },
  {
   "cell_type": "markdown",
   "id": "212223c5",
   "metadata": {},
   "source": [
    "## Stochastic Gradient Descent Implementation\n",
    "SGD updates model weights after each training example, making it faster and scalable for large datasets.  \n",
    "This approach enables online and streaming learning, as well as working with data that doesn't fit entirely in memory."
   ]
  },
  {
   "cell_type": "code",
   "execution_count": 62,
   "id": "fd293c57",
   "metadata": {},
   "outputs": [
    {
     "name": "stderr",
     "output_type": "stream",
     "text": [
      "C:\\Users\\Pushp Raj Choudhary\\AppData\\Local\\Temp\\ipykernel_11304\\2644693730.py:27: DeprecationWarning: Conversion of an array with ndim > 0 to a scalar is deprecated, and will error in future. Ensure you extract a single element from your array before performing this operation. (Deprecated NumPy 1.25.)\n",
      "  avg_loss = float(epoch_loss / m)\n"
     ]
    },
    {
     "name": "stdout",
     "output_type": "stream",
     "text": [
      "Epoch 0, Loss: 0.001895\n",
      "Epoch 10, Loss: 0.000606\n",
      "Epoch 20, Loss: 0.000587\n",
      "Epoch 30, Loss: 0.000572\n",
      "Epoch 40, Loss: 0.000561\n"
     ]
    }
   ],
   "source": [
    "def stochastic_gradient_descent(X, y, lr, epochs):\n",
    "    m, n = X.shape\n",
    "    w = np.zeros((n, 1), dtype=np.float64)  # increased precision (double)\n",
    "    loss_history = []\n",
    "    \n",
    "    for epoch in range(epochs):\n",
    "        epoch_loss = 0\n",
    "        for i in range(m):\n",
    "            x_i = X[i].reshape(1, -1).astype(np.float64)\n",
    "            y_i = y[i].astype(np.float64)\n",
    "            y_pred = np.dot(x_i, w)\n",
    "            loss = (y_pred - y_i)**2\n",
    "            \n",
    "            # Check for overflow/NaN\n",
    "            if np.isnan(loss) or np.isinf(loss):\n",
    "                print(f\"Numerical instability at epoch {epoch}: {i}\")\n",
    "                return w, loss_history\n",
    "            \n",
    "            gradient = 2 * np.dot(x_i.T, (y_pred - y_i))\n",
    "            \n",
    "            # Limit gradients range to prevent overflow\n",
    "            gradient = np.clip(gradient, -1e5, 1e5)\n",
    "            \n",
    "            w -= lr * gradient\n",
    "            epoch_loss += loss\n",
    "            \n",
    "        avg_loss = float(epoch_loss / m)  \n",
    "        loss_history.append(avg_loss)\n",
    "\n",
    "        if epoch % 10 == 0:\n",
    "            print(f\"Epoch {epoch}, Loss: {avg_loss:.6f}\")\n",
    "            \n",
    "    return w, loss_history\n",
    "\n",
    "w_sgd, loss_sgd = stochastic_gradient_descent(X_train, y_train, lr=0.0001, epochs=50)"
   ]
  },
  {
   "cell_type": "markdown",
   "id": "ca690827",
   "metadata": {},
   "source": [
    "## Model Evaluation and Visualization\n",
    "We compare the convergence speed and stability of both gradient descent methods by visualizing their training loss across epochs.  \n",
    "Notice how SGD can converge faster in practice, especially for larger datasets, and is more memory-efficient."
   ]
  },
  {
   "cell_type": "code",
   "execution_count": 63,
   "id": "86058f63",
   "metadata": {},
   "outputs": [
    {
     "data": {
      "image/png": "[encoded data removed]",
      "text/plain": [
       "<Figure size 1600x1000 with 1 Axes>"
      ]
     },
     "metadata": {},
     "output_type": "display_data"
    }
   ],
   "source": [
    "plt.figure(figsize=(16, 10))\n",
    "plt.plot(loss_batch, label='Batch Gradient Descent')\n",
    "plt.plot(loss_sgd, label='Stochastic Gradient Descent')\n",
    "plt.title('Loss (MSE) vs Epochs')\n",
    "plt.xlabel('Epoch')\n",
    "plt.ylabel('Mean Squared Error')\n",
    "plt.legend()\n",
    "plt.grid(True)\n",
    "plt.show()"
   ]
  },
  {
   "cell_type": "markdown",
   "id": "29ff5a39",
   "metadata": {},
   "source": [
    "## Final Test Set Evaluation\n",
    "We measure Mean Squared Error (MSE) on the test set to compare real-world predictive power of the learned models.  \n",
    "Typically, SGD provides rapid convergence and comparable or better generalization for large-scale financial datasets."
   ]
  },
  {
   "cell_type": "code",
   "execution_count": 64,
   "id": "1f4ee851",
   "metadata": {},
   "outputs": [
    {
     "name": "stdout",
     "output_type": "stream",
     "text": [
      "Batch Gradient Descent MSE: 3.05\n",
      "Stochastic Gradient Descent MSE: 2.14\n"
     ]
    }
   ],
   "source": [
    "# Use the learned weights and inverse scaling to evaluate\n",
    "y_pred_batch = np.dot(X_test, w_batch)\n",
    "y_pred_sgd = np.dot(X_test, w_sgd)\n",
    "\n",
    "# Reverse normalization\n",
    "y_test_inv = scaler_y.inverse_transform(y_test)\n",
    "y_pred_batch_inv = scaler_y.inverse_transform(y_pred_batch)\n",
    "y_pred_sgd_inv = scaler_y.inverse_transform(y_pred_sgd)\n",
    "\n",
    "batch_mse = mean_squared_error(y_test_inv, y_pred_batch_inv)\n",
    "sgd_mse = mean_squared_error(y_test_inv, y_pred_sgd_inv)\n",
    "print(f'Batch Gradient Descent MSE: {batch_mse:.2f}')\n",
    "print(f'Stochastic Gradient Descent MSE: {sgd_mse:.2f}')"
   ]
  },
  {
   "cell_type": "code",
   "execution_count": null,
   "id": "c4f228ad",
   "metadata": {},
   "outputs": [],
   "source": []
  },
  {
   "cell_type": "code",
   "execution_count": null,
   "id": "967cff32",
   "metadata": {},
   "outputs": [],
   "source": []
  }
 ],
 "metadata": {
  "kernelspec": {
   "display_name": "Python 3",
   "language": "python",
   "name": "python3"
  },
  "language_info": {
   "codemirror_mode": {
    "name": "ipython",
    "version": 3
   },
   "file_extension": ".py",
   "mimetype": "text/x-python",
   "name": "python",
   "nbconvert_exporter": "python",
   "pygments_lexer": "ipython3",
   "version": "3.13.2"
  }
 },
 "nbformat": 4,
 "nbformat_minor": 5
}
